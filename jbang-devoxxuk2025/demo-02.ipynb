{
 "cells": [
  {
   "cell_type": "markdown",
   "id": "a7a262a4",
   "metadata": {
    "slideshow": {
     "slide_type": "slide"
    }
   },
   "source": [
    "# Create yout first script"
   ]
  },
  {
   "cell_type": "markdown",
   "id": "55fa4da2",
   "metadata": {
    "slideshow": {
     "slide_type": "slide"
    }
   },
   "source": [
    "Initialize a new Java file"
   ]
  },
  {
   "cell_type": "code",
   "execution_count": null,
   "id": "e453d053",
   "metadata": {
    "notebookRunGroups": {
     "groupValue": "1"
    },
    "vscode": {
     "languageId": "shellscript"
    }
   },
   "outputs": [],
   "source": [
    "cd work\n",
    "jbang init hello.java\n",
    "bat hello.java"
   ]
  },
  {
   "cell_type": "markdown",
   "id": "d04aea6a",
   "metadata": {},
   "source": [
    "Run the Java file"
   ]
  },
  {
   "cell_type": "code",
   "execution_count": null,
   "id": "88c52995",
   "metadata": {
    "vscode": {
     "languageId": "shellscript"
    }
   },
   "outputs": [],
   "source": [
    "jbang hello.java"
   ]
  },
  {
   "cell_type": "markdown",
   "id": "7ac244ed",
   "metadata": {},
   "source": [
    "We can even make files executable"
   ]
  },
  {
   "cell_type": "code",
   "execution_count": null,
   "id": "2bb13678",
   "metadata": {
    "vscode": {
     "languageId": "shellscript"
    }
   },
   "outputs": [],
   "source": [
    "chmod +x hello.java\n",
    "./hello.java"
   ]
  },
  {
   "cell_type": "markdown",
   "id": "8782739c",
   "metadata": {},
   "source": [
    "[next >](./demo-03.ipynb)"
   ]
  }
 ],
 "metadata": {
  "kernelspec": {
   "display_name": "Bash",
   "language": "bash",
   "name": "bash"
  },
  "language_info": {
   "codemirror_mode": "shell",
   "file_extension": ".sh",
   "mimetype": "text/x-sh",
   "name": "bash"
  }
 },
 "nbformat": 4,
 "nbformat_minor": 5
}
