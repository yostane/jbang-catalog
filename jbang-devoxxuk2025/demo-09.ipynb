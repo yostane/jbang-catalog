{
 "cells": [
  {
   "cell_type": "markdown",
   "id": "071903d9",
   "metadata": {},
   "source": [
    "# The AppStore\n",
    "\n",
    "Indexing jbang-catalogs allows to create searchable catalogs of jbang scripts.\n",
    "\n",
    "[jbang.dev/appstore](https://www.jbang.dev/appstore/) is an example.\n",
    "\n",
    "![AppStore](assets/appstore.png)"
   ]
  },
  {
   "cell_type": "markdown",
   "id": "87f03d1c",
   "metadata": {},
   "source": [
    "[next >](./demo-10.ipynb)"
   ]
  }
 ],
 "metadata": {
  "kernelspec": {
   "display_name": "Bash",
   "language": "bash",
   "name": "bash"
  },
  "language_info": {
   "codemirror_mode": "shell",
   "file_extension": ".sh",
   "mimetype": "text/x-sh",
   "name": "bash"
  }
 },
 "nbformat": 4,
 "nbformat_minor": 5
}
