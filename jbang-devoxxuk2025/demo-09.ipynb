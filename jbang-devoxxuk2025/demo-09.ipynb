{
 "cells": [
  {
   "cell_type": "markdown",
   "id": "071903d9",
   "metadata": {},
   "source": [
    "# Other features"
   ]
  },
  {
   "cell_type": "markdown",
   "id": "ee1892af",
   "metadata": {},
   "source": [
    "## Run java from the CLI"
   ]
  },
  {
   "cell_type": "code",
   "execution_count": null,
   "id": "0321850e",
   "metadata": {
    "vscode": {
     "languageId": "shellscript"
    }
   },
   "outputs": [],
   "source": [
    "jbang --code 'Files.list(Paths.get(\"work\")).filter(f -> f.toString().endsWith(\"java\")).forEach(System.out::println)' "
   ]
  },
  {
   "cell_type": "markdown",
   "id": "96a4790b",
   "metadata": {},
   "source": [
    "## Dependencies and additional files\n",
    "\n",
    "- Dependency syntax : `//DEPS group:name:version`\n",
    "- Source files : `//SOURCES path/to/file`\n",
    "- Additional files : `//FILES path/to/file`"
   ]
  },
  {
   "cell_type": "code",
   "execution_count": null,
   "id": "a0f59c68",
   "metadata": {
    "vscode": {
     "languageId": "shellscript"
    }
   },
   "outputs": [],
   "source": [
    "rm -r ./presentation\n",
    "jbang init --template javafx-presentation@yostane presentation/JfxPresentation.java\n",
    "ls presentation\n",
    "bat presentation/JfxPresentation.java"
   ]
  },
  {
   "cell_type": "code",
   "execution_count": null,
   "id": "3b23575a",
   "metadata": {
    "vscode": {
     "languageId": "shellscript"
    }
   },
   "outputs": [],
   "source": [
    "jbang presentation/JfxPresentation.java"
   ]
  },
  {
   "cell_type": "markdown",
   "id": "87f03d1c",
   "metadata": {},
   "source": [
    "[next >](./demo-99.ipynb)"
   ]
  }
 ],
 "metadata": {
  "kernelspec": {
   "display_name": "Bash",
   "language": "bash",
   "name": "bash"
  },
  "language_info": {
   "codemirror_mode": "shell",
   "file_extension": ".sh",
   "mimetype": "text/x-sh",
   "name": "bash"
  }
 },
 "nbformat": 4,
 "nbformat_minor": 5
}
