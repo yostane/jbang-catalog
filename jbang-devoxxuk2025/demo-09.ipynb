{
 "cells": [
  {
   "cell_type": "markdown",
   "id": "071903d9",
   "metadata": {},
   "source": [
    "# The AppStore\n",
    "\n",
    "- jbang-catalogs are public\n",
    "- They can be indexed to create static UIs to explore them\n",
    "- [jbang.dev/appstore](https://www.jbang.dev/appstore/) is an example.\n",
    "- Anyone can create an AppStore!\n",
    "\n",
    "![AppStore](assets/appstore.png)"
   ]
  },
  {
   "cell_type": "markdown",
   "id": "87f03d1c",
   "metadata": {},
   "source": [
    "[next >](./demo-10.ipynb)"
   ]
  }
 ],
 "metadata": {
  "kernelspec": {
   "display_name": "Bash",
   "language": "bash",
   "name": "bash"
  },
  "language_info": {
   "codemirror_mode": "shell",
   "file_extension": ".sh",
   "mimetype": "text/x-sh",
   "name": "bash"
  }
 },
 "nbformat": 4,
 "nbformat_minor": 5
}
