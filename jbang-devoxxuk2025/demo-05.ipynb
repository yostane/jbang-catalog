{
 "cells": [
  {
   "cell_type": "markdown",
   "id": "49f382f6",
   "metadata": {},
   "source": [
    "# Is that all folks?\n",
    "![that's all folks](./assets/thats_all_fol.gif)\n",
    "\n",
    "?\n",
    "\n",
    "![nah](./assets/nah.gif)"
   ]
  },
  {
   "cell_type": "markdown",
   "id": "146d8b63",
   "metadata": {},
   "source": [
    "[next >](./demo-06.ipynb)"
   ]
  }
 ],
 "metadata": {
  "kernelspec": {
   "display_name": "Bash",
   "language": "bash",
   "name": "bash"
  },
  "language_info": {
   "codemirror_mode": "shell",
   "file_extension": ".sh",
   "mimetype": "text/x-sh",
   "name": "bash"
  }
 },
 "nbformat": 4,
 "nbformat_minor": 5
}
