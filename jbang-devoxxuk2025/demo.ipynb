{
 "cells": [
  {
   "cell_type": "markdown",
   "id": "a7a262a4",
   "metadata": {},
   "source": [
    "# [DevoxxUK 2025] Scripting on the JVM with JBang\n",
    "\n",
    "![Logo](./assets/jbang_logo.svg)\n",
    "\n",
    "When it comes to large projects, the Java ecosystem has Maven and Gradle. However, the file structure of these tools is not suitable for projects containing a single source code file. Fortunately for us, JBang makes developing small projects in Java, Kotlin, or Groovy as simple as in Python. Since I discovered this tool, it hasn't left my side, and I'm excited to share it with you.\n",
    "During this session, we will cover the setup and usage of the JBang tool, from project creation to deployment.\n",
    "If you're a teacher, a developer of demos / small programs, or you simply enjoy coding in Java, then this session is made for you."
   ]
  },
  {
   "cell_type": "markdown",
   "id": "882ccb08",
   "metadata": {},
   "source": [
    "## Prerequisites\n",
    "\n",
    "- Install [Jbang](https://www.jbang.dev/download/)\n",
    "   ```sh\n",
    "    curl -Ls https://sh.jbang.dev | bash -s - app setup # Linux/OSX/Windows/AIX Bash:\n",
    "    iex \"& { $(iwr -useb https://ps.jbang.dev) } app setup\" # Windows Powershell\n",
    "    ```\n",
    "- Install [the bash kernel for Jupyter](https://pypi.org/project/bash_kernel/) to run the code in this nodebook\n",
    "    ```sh\n",
    "    pip install bash_kernel\n",
    "    python -m bash_kernel.install\n",
    "    ```\n",
    "\n",
    "## Notebook setup\n",
    "\n",
    "This part works only on Linux and MacOS. If you are on Windows, please run the commands in a bash shell.\n",
    "\n",
    "Setup working directory"
   ]
  },
  {
   "cell_type": "code",
   "execution_count": 62,
   "id": "2ac25b2c",
   "metadata": {
    "vscode": {
     "languageId": "shellscript"
    }
   },
   "outputs": [
    {
     "name": "stdout",
     "output_type": "stream",
     "text": [
      "/Users/yassinebenabbas/dev/github/yostane/jbang-catalog/jbang-devoxxuk2025\n"
     ]
    }
   ],
   "source": [
    "if [ -z ${base} ]; then base=$(pwd); fi\n",
    "echo $base\n",
    "cd $base\n",
    "mkdir -p work\n",
    "rm -rf ./work/*\n",
    "cd work"
   ]
  },
  {
   "cell_type": "markdown",
   "id": "55fa4da2",
   "metadata": {},
   "source": [
    "## Basic features\n",
    "\n",
    "Initialize a new Java file"
   ]
  },
  {
   "cell_type": "code",
   "execution_count": 63,
   "id": "e453d053",
   "metadata": {
    "notebookRunGroups": {
     "groupValue": "1"
    },
    "vscode": {
     "languageId": "shellscript"
    }
   },
   "outputs": [
    {
     "name": "stdout",
     "output_type": "stream",
     "text": [
      "[jbang] File initialized. You can now run it with 'jbang hello.java' or edit it using 'jbang edit --open=[editor] hello.java' where [editor] is your editor or IDE, e.g. 'netbeans'. If your IDE supports JBang, you can edit the directory instead: 'jbang edit . hello.java'. See https://jbang.dev/ide\n",
      "\u001b[38;5;246m───────┬────────────────────────────────────────────────────────────────────────\u001b[0m\n",
      "       \u001b[38;5;246m│ \u001b[0mFile: \u001b[1mhello.java\u001b[0m\n",
      "\u001b[38;5;246m───────┼────────────────────────────────────────────────────────────────────────\u001b[0m\n",
      "\u001b[38;5;246m   1\u001b[0m   \u001b[38;5;246m│\u001b[0m \u001b[38;5;242m//\u001b[0m\u001b[38;5;242m/usr/bin/env jbang \"$0\" \"$@\" ; exit $?\u001b[0m\n",
      "\u001b[38;5;246m   2\u001b[0m   \u001b[38;5;246m│\u001b[0m \n",
      "\u001b[38;5;246m   3\u001b[0m   \u001b[38;5;246m│\u001b[0m \n",
      "\u001b[38;5;246m   4\u001b[0m   \u001b[38;5;246m│\u001b[0m \u001b[38;5;203mimport\u001b[0m\u001b[38;5;231m \u001b[0m\u001b[38;5;203mstatic\u001b[0m\u001b[38;5;231m \u001b[0m\u001b[38;5;149mjava\u001b[0m\u001b[38;5;231m.\u001b[0m\u001b[38;5;149mlang\u001b[0m\u001b[38;5;231m.\u001b[0m\u001b[38;5;149mSystem\u001b[0m\u001b[38;5;231m.\u001b[0m\u001b[38;5;203m*\u001b[0m\u001b[38;5;231m;\u001b[0m\n",
      "\u001b[38;5;246m   5\u001b[0m   \u001b[38;5;246m│\u001b[0m \n",
      "\u001b[38;5;246m   6\u001b[0m   \u001b[38;5;246m│\u001b[0m \u001b[38;5;203mpublic\u001b[0m\u001b[38;5;231m \u001b[0m\u001b[38;5;81mclass\u001b[0m\u001b[38;5;231m \u001b[0m\u001b[4;38;5;81mhello\u001b[0m\u001b[38;5;231m \u001b[0m\u001b[38;5;231m{\u001b[0m\n",
      "\u001b[38;5;246m   7\u001b[0m   \u001b[38;5;246m│\u001b[0m \n",
      "\u001b[38;5;246m   8\u001b[0m   \u001b[38;5;246m│\u001b[0m \u001b[38;5;231m    \u001b[0m\u001b[38;5;203mpublic\u001b[0m\u001b[38;5;231m \u001b[0m\u001b[38;5;203mstatic\u001b[0m\u001b[38;5;231m \u001b[0m\u001b[38;5;81mvoid\u001b[0m\u001b[38;5;231m \u001b[0m\u001b[38;5;149mmain\u001b[0m\u001b[38;5;231m(\u001b[0m\u001b[38;5;149mString\u001b[0m\u001b[38;5;203m...\u001b[0m\u001b[38;5;231m \u001b[0m\u001b[38;5;208margs\u001b[0m\u001b[38;5;231m)\u001b[0m\u001b[38;5;231m \u001b[0m\u001b[38;5;231m{\u001b[0m\n",
      "\u001b[38;5;246m   9\u001b[0m   \u001b[38;5;246m│\u001b[0m \u001b[38;5;231m        out\u001b[0m\u001b[38;5;231m.\u001b[0m\u001b[38;5;231mprintln\u001b[0m\u001b[38;5;231m(\u001b[0m\u001b[38;5;186m\"\u001b[0m\u001b[38;5;186mHello World\u001b[0m\u001b[38;5;186m\"\u001b[0m\u001b[38;5;231m)\u001b[0m\u001b[38;5;231m;\u001b[0m\n",
      "\u001b[38;5;246m  10\u001b[0m   \u001b[38;5;246m│\u001b[0m \u001b[38;5;231m    \u001b[0m\u001b[38;5;231m}\u001b[0m\n",
      "\u001b[38;5;246m  11\u001b[0m   \u001b[38;5;246m│\u001b[0m \u001b[38;5;231m}\u001b[0m\n",
      "\u001b[38;5;246m───────┴────────────────────────────────────────────────────────────────────────\u001b[0m\n"
     ]
    }
   ],
   "source": [
    "jbang init hello.java\n",
    "bat hello.java"
   ]
  },
  {
   "cell_type": "markdown",
   "id": "d04aea6a",
   "metadata": {},
   "source": [
    "Run the Java file"
   ]
  },
  {
   "cell_type": "code",
   "execution_count": 64,
   "id": "88c52995",
   "metadata": {
    "vscode": {
     "languageId": "shellscript"
    }
   },
   "outputs": [
    {
     "name": "stdout",
     "output_type": "stream",
     "text": [
      "Hello World\n"
     ]
    }
   ],
   "source": [
    "jbang hello.java"
   ]
  },
  {
   "cell_type": "markdown",
   "id": "7ac244ed",
   "metadata": {},
   "source": [
    "We can even make files executable"
   ]
  },
  {
   "cell_type": "code",
   "execution_count": 65,
   "id": "2bb13678",
   "metadata": {
    "vscode": {
     "languageId": "shellscript"
    }
   },
   "outputs": [
    {
     "name": "stdout",
     "output_type": "stream",
     "text": [
      "Hello World\n"
     ]
    }
   ],
   "source": [
    "chmod +x hello.java\n",
    "./hello.java"
   ]
  },
  {
   "cell_type": "markdown",
   "id": "2b2259a1",
   "metadata": {},
   "source": [
    "Export the file to many formats with the `jbang export [format]` command: portable, fatjar, native-image, jlink, native."
   ]
  },
  {
   "cell_type": "code",
   "execution_count": 66,
   "id": "f395ece3",
   "metadata": {
    "vscode": {
     "languageId": "shellscript"
    }
   },
   "outputs": [
    {
     "name": "stdout",
     "output_type": "stream",
     "text": [
      "[jbang] Exported to /Users/yassinebenabbas/dev/github/yostane/jbang-catalog/jbang-devoxxuk2025/work/hello-fatjar.jar\n",
      "[jbang] This is an experimental feature and might not to work for certain applications!\n",
      "[jbang] Help us improve by reporting any issue you find at https://github.com/jbangdev/jbang/issues\n",
      "Hello World\n"
     ]
    }
   ],
   "source": [
    "jbang export fatjar hello.java\n",
    "jbang ./hello-fatjar.jar"
   ]
  },
  {
   "cell_type": "markdown",
   "id": "133a3771",
   "metadata": {},
   "source": [
    "We can export to Gradle or Maven project."
   ]
  },
  {
   "cell_type": "code",
   "execution_count": 67,
   "id": "e03107e6",
   "metadata": {
    "vscode": {
     "languageId": "shellscript"
    }
   },
   "outputs": [
    {
     "name": "stdout",
     "output_type": "stream",
     "text": [
      "rm: ./hello: No such file or directory\n",
      "[jbang] No explicit group found, using org.example.project as fallback.\n",
      "[jbang] Exported as gradle project to /Users/yassinebenabbas/dev/github/yostane/jbang-catalog/jbang-devoxxuk2025/work/hello\n",
      "[jbang] Export to gradle is a best-effort to try match JBang build.\n",
      "[jbang] If something can be improved please open issue at open an issue at https://github.com/jbangdev/jbang/issues with reproducer.\n",
      "build.gradle\tsrc\n"
     ]
    }
   ],
   "source": [
    "rm -r ./hello\n",
    "jbang export gradle hello.java\n",
    "ls hello"
   ]
  },
  {
   "cell_type": "markdown",
   "id": "49f382f6",
   "metadata": {},
   "source": [
    "![that's all folks](./assets/thats_all_fol.gif)\n",
    "\n",
    "?\n",
    "\n",
    "![nah](./assets/nah.gif)\n",
    "\n",
    "## Other features\n",
    "\n",
    "Loading scripts from a URL (will ask for permission to download the script)"
   ]
  },
  {
   "cell_type": "code",
   "execution_count": 74,
   "id": "000b15ce",
   "metadata": {
    "vscode": {
     "languageId": "shellscript"
    }
   },
   "outputs": [
    {
     "name": "stdout",
     "output_type": "stream",
     "text": [
      "1\n",
      "2\n",
      "Fizz\n",
      "4\n",
      "Buzz\n",
      "Fizz\n",
      "7\n",
      "8\n",
      "Fizz\n",
      "Buzz\n",
      "11\n",
      "Fizz\n",
      "13\n",
      "14\n",
      "FizzBuzz\n",
      "16\n",
      "17\n",
      "Fizz\n",
      "19\n",
      "Buzz\n",
      "Fizz\n",
      "22\n",
      "23\n",
      "Fizz\n",
      "Buzz\n",
      "26\n",
      "Fizz\n",
      "28\n",
      "29\n",
      "FizzBuzz\n",
      "31\n",
      "32\n",
      "Fizz\n",
      "34\n",
      "Buzz\n",
      "Fizz\n",
      "37\n",
      "38\n",
      "Fizz\n",
      "Buzz\n",
      "41\n",
      "Fizz\n",
      "43\n",
      "44\n",
      "FizzBuzz\n",
      "46\n",
      "47\n",
      "Fizz\n",
      "49\n",
      "Buzz\n",
      "Fizz\n",
      "52\n",
      "53\n",
      "Fizz\n",
      "Buzz\n",
      "56\n",
      "Fizz\n",
      "58\n",
      "59\n",
      "FizzBuzz\n",
      "61\n",
      "62\n",
      "Fizz\n",
      "64\n",
      "Buzz\n",
      "Fizz\n",
      "67\n",
      "68\n",
      "Fizz\n",
      "Buzz\n",
      "71\n",
      "Fizz\n",
      "73\n",
      "74\n",
      "FizzBuzz\n",
      "76\n",
      "77\n",
      "Fizz\n",
      "79\n",
      "Buzz\n",
      "Fizz\n",
      "82\n",
      "83\n",
      "Fizz\n",
      "Buzz\n",
      "86\n",
      "Fizz\n",
      "88\n",
      "89\n",
      "FizzBuzz\n",
      "91\n",
      "92\n",
      "Fizz\n",
      "94\n",
      "Buzz\n",
      "Fizz\n",
      "97\n",
      "98\n",
      "Fizz\n",
      "Buzz\n"
     ]
    }
   ],
   "source": [
    "jbang https://gist.github.com/maxandersen/f43b4c52dfcfc42dcd59a04e49acf6ec"
   ]
  },
  {
   "cell_type": "code",
   "execution_count": 73,
   "id": "86ad136e",
   "metadata": {
    "vscode": {
     "languageId": "shellscript"
    }
   },
   "outputs": [
    {
     "name": "stdout",
     "output_type": "stream",
     "text": [
      "[jbang] Trusting permanently: [https://gist.github.com/maxandersen/]\n",
      "1\n",
      "2\n",
      "Fizz\n",
      "4\n",
      "Buzz\n",
      "Fizz\n",
      "7\n",
      "8\n",
      "Fizz\n",
      "Buzz\n",
      "11\n",
      "Fizz\n",
      "13\n",
      "14\n",
      "FizzBuzz\n",
      "16\n",
      "17\n",
      "Fizz\n",
      "19\n",
      "Buzz\n",
      "Fizz\n",
      "22\n",
      "23\n",
      "Fizz\n",
      "Buzz\n",
      "26\n",
      "Fizz\n",
      "28\n",
      "29\n",
      "FizzBuzz\n",
      "31\n",
      "32\n",
      "Fizz\n",
      "34\n",
      "Buzz\n",
      "Fizz\n",
      "37\n",
      "38\n",
      "Fizz\n",
      "Buzz\n",
      "41\n",
      "Fizz\n",
      "43\n",
      "44\n",
      "FizzBuzz\n",
      "46\n",
      "47\n",
      "Fizz\n",
      "49\n",
      "Buzz\n",
      "Fizz\n",
      "52\n",
      "53\n",
      "Fizz\n",
      "Buzz\n",
      "56\n",
      "Fizz\n",
      "58\n",
      "59\n",
      "FizzBuzz\n",
      "61\n",
      "62\n",
      "Fizz\n",
      "64\n",
      "Buzz\n",
      "Fizz\n",
      "67\n",
      "68\n",
      "Fizz\n",
      "Buzz\n",
      "71\n",
      "Fizz\n",
      "73\n",
      "74\n",
      "FizzBuzz\n",
      "76\n",
      "77\n",
      "Fizz\n",
      "79\n",
      "Buzz\n",
      "Fizz\n",
      "82\n",
      "83\n",
      "Fizz\n",
      "Buzz\n",
      "86\n",
      "Fizz\n",
      "88\n",
      "89\n",
      "FizzBuzz\n",
      "91\n",
      "92\n",
      "Fizz\n",
      "94\n",
      "Buzz\n",
      "Fizz\n",
      "97\n",
      "98\n",
      "Fizz\n",
      "Buzz\n",
      "[jbang] Removing permanent trust: [https://gist.github.com/maxandersen/]\n"
     ]
    }
   ],
   "source": [
    "jbang trust add https://gist.github.com/maxandersen/\n",
    "jbang https://gist.github.com/maxandersen/f43b4c52dfcfc42dcd59a04e49acf6ec\n",
    "jbang trust remove https://gist.github.com/maxandersen/"
   ]
  },
  {
   "cell_type": "markdown",
   "id": "ffb93a8c",
   "metadata": {},
   "source": [
    "Catalogs allows to simplify accessing remote **scripts** and **templates** hosted in code reposiroties.\n",
    "\n",
    "This `jbang-catalog.json` file is hosted in [github.com/yostane/jbang-catalog](https://github.com/yostane/jbang-catalog/blob/main/jbang-catalog.json).\n",
    "\n",
    "```json\n",
    "{\n",
    "  \"catalogs\": {},\n",
    "  \"aliases\": {\n",
    "    \"hellojfx\": {\n",
    "\t\t\"script-ref\": \"scripts/hellojfx.java\",\n",
    "\t\t\"description\": \"Basic JavaFX window that shows Java and JavaFx versions\"\n",
    "\t  },\n",
    "  },\n",
    "  \"templates\": {\n",
    "    \"implicit-main\": {\n",
    "      \"file-refs\": {\n",
    "        \"{basename}.kt\": \"templates/im.java\"\n",
    "      },\n",
    "      \"description\": \"Java file wiht Implicitly Declared Classes and Instance Main Method\"\n",
    "    }\n",
    "  }\n",
    "}\n",
    "```"
   ]
  },
  {
   "cell_type": "code",
   "execution_count": 75,
   "id": "feb3a9ce",
   "metadata": {
    "vscode": {
     "languageId": "shellscript"
    }
   },
   "outputs": [
    {
     "name": "stdout",
     "output_type": "stream",
     "text": [
      "[jbang] Resolving dependencies...\n",
      "[jbang]    org.openjfx:javafx-controls:23\n",
      "[jbang] Dependencies resolved\n",
      "[jbang] Building jar for hellojfx.java...\n"
     ]
    }
   ],
   "source": [
    "jbang hellojfx@yostane"
   ]
  },
  {
   "cell_type": "code",
   "execution_count": 77,
   "id": "b658570f",
   "metadata": {
    "vscode": {
     "languageId": "shellscript"
    }
   },
   "outputs": [
    {
     "name": "stdout",
     "output_type": "stream",
     "text": [
      "[jbang] [ERROR] Template expects kt extension, not java\n",
      "[jbang] Run with --verbose for more details. The --verbose must be placed before the jbang command. I.e. jbang --verbose run [...]\n",
      "\u001b[31m[bat error]\u001b[0m: 'im.java': No such file or directory (os error 2)\n",
      "[jbang] [ERROR] Script or alias could not be found or read: 'im.java'\n",
      "[jbang] Run with --verbose for more details. The --verbose must be placed before the jbang command. I.e. jbang --verbose run [...]\n"
     ]
    },
    {
     "ename": "",
     "evalue": "2",
     "output_type": "error",
     "traceback": []
    }
   ],
   "source": [
    "jbang init --template implicit-main@yostane im.java\n",
    "bat im.java\n",
    "jbang im.java"
   ]
  },
  {
   "cell_type": "markdown",
   "id": "956ac6e8",
   "metadata": {},
   "source": [
    "## References\n",
    "\n",
    "- [How to Use Bash Commands in Jupyter Notebook](https://saturncloud.io/blog/how-to-use-bash-commands-in-jupyter-notebook/)\n",
    "- [giphy.com](https://giphy.com/gifs/nope-nah-fam-WTjnWYENpLxS8JQ5rz)\n",
    "- [tenor.com](https://tenor.com/view/that's-all-folks-thats-all-folks-thats-all-bugs-bunny-movie-gif-2051142853146731971)"
   ]
  }
 ],
 "metadata": {
  "kernelspec": {
   "display_name": "Bash",
   "language": "bash",
   "name": "bash"
  },
  "language_info": {
   "codemirror_mode": "shell",
   "file_extension": ".sh",
   "mimetype": "text/x-sh",
   "name": "bash"
  }
 },
 "nbformat": 4,
 "nbformat_minor": 5
}
