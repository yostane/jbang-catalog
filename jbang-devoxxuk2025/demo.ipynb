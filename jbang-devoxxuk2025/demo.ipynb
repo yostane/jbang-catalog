{
 "cells": [
  {
   "cell_type": "markdown",
   "id": "a7a262a4",
   "metadata": {
    "slideshow": {
     "slide_type": "slide"
    }
   },
   "source": [
    "# [Devoxx UK 2025] Scripting on the JVM with JBang\n",
    "\n",
    "![Logo](./assets/jbang_logo.svg)\n",
    "\n",
    "And more!"
   ]
  },
  {
   "cell_type": "markdown",
   "id": "882ccb08",
   "metadata": {
    "notebookRunGroups": {
     "groupValue": "1"
    },
    "slideshow": {
     "slide_type": "slide"
    }
   },
   "source": [
    "## Prerequisites\n",
    "\n",
    "- Install [JBang](https://www.jbang.dev/download/)\n",
    "   ```sh\n",
    "    curl -Ls https://sh.jbang.dev | bash -s - app setup # Linux/OSX/Windows/AIX Bash:\n",
    "    iex \"& { $(iwr -useb https://ps.jbang.dev) } app setup\" # Windows Powershell\n",
    "    ```\n",
    "- To run the scripts in this notebook from a Unix shell\n",
    "    -  Install [the bash kernel for Jupyter](https://pypi.org/project/bash_kernel/) to run the code in this nodebook\n",
    "        ```sh\n",
    "        pip install bash_kernel\n",
    "        python -m bash_kernel.install\n",
    "        ```\n",
    "    - Set up the working directory for the remainder of the notebook with the following command"
   ]
  },
  {
   "cell_type": "code",
   "execution_count": null,
   "id": "2ac25b2c",
   "metadata": {
    "slideshow": {
     "slide_type": "fragment"
    },
    "vscode": {
     "languageId": "shellscript"
    }
   },
   "outputs": [],
   "source": [
    "if [ -z ${base} ]; then base=$(pwd); fi\n",
    "cd $base\n",
    "mkdir -p work\n",
    "rm -rf ./work/*\n",
    "cd work"
   ]
  },
  {
   "cell_type": "markdown",
   "id": "55fa4da2",
   "metadata": {
    "slideshow": {
     "slide_type": "slide"
    }
   },
   "source": [
    "## Hello world\n",
    "\n",
    "Initialize a new Java file"
   ]
  },
  {
   "cell_type": "code",
   "execution_count": null,
   "id": "e453d053",
   "metadata": {
    "notebookRunGroups": {
     "groupValue": "1"
    },
    "vscode": {
     "languageId": "shellscript"
    }
   },
   "outputs": [],
   "source": [
    "jbang init hello.java\n",
    "bat hello.java"
   ]
  },
  {
   "cell_type": "markdown",
   "id": "d04aea6a",
   "metadata": {},
   "source": [
    "Run the Java file"
   ]
  },
  {
   "cell_type": "code",
   "execution_count": null,
   "id": "88c52995",
   "metadata": {
    "vscode": {
     "languageId": "shellscript"
    }
   },
   "outputs": [],
   "source": [
    "jbang hello.java"
   ]
  },
  {
   "cell_type": "markdown",
   "id": "7ac244ed",
   "metadata": {},
   "source": [
    "We can even make files executable"
   ]
  },
  {
   "cell_type": "code",
   "execution_count": null,
   "id": "2bb13678",
   "metadata": {
    "vscode": {
     "languageId": "shellscript"
    }
   },
   "outputs": [],
   "source": [
    "chmod +x hello.java\n",
    "./hello.java"
   ]
  },
  {
   "cell_type": "markdown",
   "id": "2b2259a1",
   "metadata": {},
   "source": [
    "## Exporting scripts\n",
    "\n",
    "Export the file to many formats with the `jbang export [format]` command: portable, fatjar, native-image, jlink, native."
   ]
  },
  {
   "cell_type": "code",
   "execution_count": null,
   "id": "f395ece3",
   "metadata": {
    "vscode": {
     "languageId": "shellscript"
    }
   },
   "outputs": [],
   "source": [
    "jbang export fatjar hello.java\n",
    "jbang ./hello-fatjar.jar"
   ]
  },
  {
   "cell_type": "markdown",
   "id": "133a3771",
   "metadata": {},
   "source": [
    "We can export to Gradle or Maven project."
   ]
  },
  {
   "cell_type": "code",
   "execution_count": null,
   "id": "e03107e6",
   "metadata": {
    "vscode": {
     "languageId": "shellscript"
    }
   },
   "outputs": [],
   "source": [
    "rm -r ./hello\n",
    "jbang export gradle hello.java\n",
    "ls hello"
   ]
  },
  {
   "cell_type": "markdown",
   "id": "cc2b96dc",
   "metadata": {},
   "source": [
    "## Templates\n",
    "\n",
    "List available templates"
   ]
  },
  {
   "cell_type": "code",
   "execution_count": null,
   "id": "bc0a9dcc",
   "metadata": {
    "vscode": {
     "languageId": "shellscript"
    }
   },
   "outputs": [],
   "source": [
    "jbang template list"
   ]
  },
  {
   "cell_type": "markdown",
   "id": "d6494c12",
   "metadata": {},
   "source": [
    "Create a script from a template (picocli and quarkus examples)"
   ]
  },
  {
   "cell_type": "code",
   "execution_count": null,
   "id": "57b90a71",
   "metadata": {
    "vscode": {
     "languageId": "shellscript"
    }
   },
   "outputs": [],
   "source": [
    "jbang init -t cli hellocli.java\n",
    "bat hellocli.java"
   ]
  },
  {
   "cell_type": "code",
   "execution_count": null,
   "id": "f913ca86",
   "metadata": {
    "vscode": {
     "languageId": "shellscript"
    }
   },
   "outputs": [],
   "source": [
    "jbang init -t qrest helloqrest.java\n",
    "bat helloqrest.java"
   ]
  },
  {
   "cell_type": "markdown",
   "id": "49f382f6",
   "metadata": {},
   "source": [
    "## Is that all folks?\n",
    "![that's all folks](./assets/thats_all_fol.gif)\n",
    "\n",
    "?\n",
    "\n",
    "![nah](./assets/nah.gif)"
   ]
  },
  {
   "cell_type": "markdown",
   "id": "3ae2945b",
   "metadata": {},
   "source": [
    "## Remote scripts and templates - introducing catalongs\n",
    "\n",
    "JBang can load remote scripts and templates from a URL or from a catalog (the user's permission is required to run the script)."
   ]
  },
  {
   "cell_type": "code",
   "execution_count": null,
   "id": "000b15ce",
   "metadata": {
    "vscode": {
     "languageId": "shellscript"
    }
   },
   "outputs": [],
   "source": [
    "jbang https://gist.github.com/maxandersen/f43b4c52dfcfc42dcd59a04e49acf6ec"
   ]
  },
  {
   "cell_type": "markdown",
   "id": "f45805b5",
   "metadata": {},
   "source": [
    "A catalog is a shortcut to the source code reposiroty hosting the script or the template."
   ]
  },
  {
   "cell_type": "code",
   "execution_count": null,
   "id": "7cbc0cd5",
   "metadata": {
    "vscode": {
     "languageId": "shellscript"
    }
   },
   "outputs": [],
   "source": [
    "jbang palcli@yostane/cours-java madam"
   ]
  },
  {
   "cell_type": "markdown",
   "id": "b450b313",
   "metadata": {},
   "source": [
    "If the catalog is hosted on a reposiry named **jbang-catalog**, the syntax is even shorter."
   ]
  },
  {
   "cell_type": "code",
   "execution_count": null,
   "id": "6b1c6014",
   "metadata": {
    "vscode": {
     "languageId": "shellscript"
    }
   },
   "outputs": [],
   "source": [
    "jbang hellojfx@yostane"
   ]
  },
  {
   "cell_type": "markdown",
   "id": "b03e5e6f",
   "metadata": {},
   "source": [
    "![jfx demo](./assets/jfx-demo.png)"
   ]
  },
  {
   "cell_type": "markdown",
   "id": "ffb93a8c",
   "metadata": {},
   "source": [
    "JBang looks for a file named `jbang-catalog.json` in the specified repository.\n",
    "\n",
    "For example, **hellojfx@yostane** is defined in [github.com/yostane/jbang-catalog/jbang-catalog.json](https://github.com/yostane/jbang-catalog/blob/main/jbang-catalog.json).\n",
    "\n",
    "```json\n",
    "{\n",
    "  \"catalogs\": {},\n",
    "  \"aliases\": {\n",
    "    \"hellojfx\": {\n",
    "        \"script-ref\": \"scripts/hellojfx.java\",\n",
    "        \"description\": \"Basic JavaFX window that shows Java and JavaFx versions\"\n",
    "    },\n",
    "  },\n",
    "  \"templates\": {\n",
    "    \"implicit-main\": {\n",
    "        \"file-refs\": {\n",
    "            \"{basename}.kt\": \"templates/im.java\"\n",
    "        },\n",
    "        \"description\": \"Java file wiht Implicitly Declared Classes and Instance Main Method\"\n",
    "    }\n",
    "  }\n",
    "}\n",
    "```\n",
    "\n",
    "This catalog also defines a template named **implicit-main** that can be used to create a script with an implicit main method."
   ]
  },
  {
   "cell_type": "code",
   "execution_count": null,
   "id": "b658570f",
   "metadata": {
    "vscode": {
     "languageId": "shellscript"
    }
   },
   "outputs": [],
   "source": [
    "jbang init --template implicit-main@yostane im.java\n",
    "bat im.java\n",
    "jbang im.java"
   ]
  },
  {
   "cell_type": "markdown",
   "id": "071903d9",
   "metadata": {},
   "source": [
    "## Other features"
   ]
  },
  {
   "cell_type": "markdown",
   "id": "96a4790b",
   "metadata": {},
   "source": [
    "- Gradle style dependencies\n",
    "- Additional source files"
   ]
  },
  {
   "cell_type": "code",
   "execution_count": null,
   "id": "a0f59c68",
   "metadata": {
    "vscode": {
     "languageId": "shellscript"
    }
   },
   "outputs": [],
   "source": [
    "rm -r ./presentation\n",
    "jbang init --template javafx-presentation@yostane presentation/JfxPresentation.java\n",
    "ls presentation\n",
    "bat presentation/JfxPresentation.java"
   ]
  },
  {
   "cell_type": "code",
   "execution_count": null,
   "id": "3b23575a",
   "metadata": {
    "vscode": {
     "languageId": "shellscript"
    }
   },
   "outputs": [],
   "source": [
    "jbang presentation/JfxPresentation.java"
   ]
  },
  {
   "cell_type": "markdown",
   "id": "956ac6e8",
   "metadata": {},
   "source": [
    "## References\n",
    "\n",
    "- [How to Use Bash Commands in Jupyter Notebook](https://saturncloud.io/blog/how-to-use-bash-commands-in-jupyter-notebook/)\n",
    "- [giphy.com](https://giphy.com/gifs/nope-nah-fam-WTjnWYENpLxS8JQ5rz)\n",
    "- [tenor.com](https://tenor.com/view/that's-all-folks-thats-all-folks-thats-all-bugs-bunny-movie-gif-2051142853146731971)"
   ]
  }
 ],
 "metadata": {
  "kernelspec": {
   "display_name": "Bash",
   "language": "bash",
   "name": "bash"
  },
  "language_info": {
   "codemirror_mode": "shell",
   "file_extension": ".sh",
   "mimetype": "text/x-sh",
   "name": "bash"
  }
 },
 "nbformat": 4,
 "nbformat_minor": 5
}
