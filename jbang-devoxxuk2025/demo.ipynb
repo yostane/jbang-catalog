{
 "cells": [
  {
   "cell_type": "markdown",
   "id": "a7a262a4",
   "metadata": {},
   "source": [
    "# [DevoxxUK 2025] Scripting on the JVM with JBang\n",
    "\n",
    "![Logo](./assets/jbang_logo.svg)\n",
    "\n",
    "When it comes to large projects, the Java ecosystem has Maven and Gradle. However, the file structure of these tools is not suitable for projects containing a single source code file. Fortunately for us, JBang makes developing small projects in Java, Kotlin, or Groovy as simple as in Python. Since I discovered this tool, it hasn't left my side, and I'm excited to share it with you.\n",
    "During this session, we will cover the setup and usage of the JBang tool, from project creation to deployment.\n",
    "If you're a teacher, a developer of demos / small programs, or you simply enjoy coding in Java, then this session is made for you."
   ]
  },
  {
   "cell_type": "markdown",
   "id": "882ccb08",
   "metadata": {},
   "source": [
    "## Prerequisites\n",
    "\n",
    "- Install [Jbang](https://www.jbang.dev/download/)\n",
    "   ```sh\n",
    "    curl -Ls https://sh.jbang.dev | bash -s - app setup # Linux/OSX/Windows/AIX Bash:\n",
    "    iex \"& { $(iwr -useb https://ps.jbang.dev) } app setup\" # Windows Powershell\n",
    "    ```\n",
    "- Install [the bash kernel for Jupyter](https://pypi.org/project/bash_kernel/) to run the code in this nodebook\n",
    "    ```sh\n",
    "    pip install bash_kernel\n",
    "    python -m bash_kernel.install\n",
    "    ```\n",
    "\n",
    "## Notebook setup\n",
    "\n",
    "This part works only on Linux and MacOS. If you are on Windows, please run the commands in a bash shell.\n",
    "\n",
    "Setup working directory"
   ]
  },
  {
   "cell_type": "code",
   "execution_count": 103,
   "id": "2ac25b2c",
   "metadata": {
    "vscode": {
     "languageId": "shellscript"
    }
   },
   "outputs": [
    {
     "name": "stdout",
     "output_type": "stream",
     "text": [
      "/Users/yassinebenabbas/dev/github/yostane/jbang-catalog/jbang-devoxxuk2025\n"
     ]
    }
   ],
   "source": [
    "if [ -z ${base} ]; then base=$(pwd); fi\n",
    "echo $base\n",
    "cd $base\n",
    "mkdir -p work\n",
    "rm -rf ./work/*\n",
    "cd work"
   ]
  },
  {
   "cell_type": "markdown",
   "id": "55fa4da2",
   "metadata": {},
   "source": [
    "## Basic features\n",
    "\n",
    "Initialize a new Java file"
   ]
  },
  {
   "cell_type": "code",
   "execution_count": 104,
   "id": "e453d053",
   "metadata": {
    "notebookRunGroups": {
     "groupValue": "1"
    },
    "vscode": {
     "languageId": "shellscript"
    }
   },
   "outputs": [
    {
     "name": "stdout",
     "output_type": "stream",
     "text": [
      "[jbang] File initialized. You can now run it with 'jbang hello.java' or edit it using 'jbang edit --open=[editor] hello.java' where [editor] is your editor or IDE, e.g. 'netbeans'. If your IDE supports JBang, you can edit the directory instead: 'jbang edit . hello.java'. See https://jbang.dev/ide\n",
      "\u001b[38;5;246m───────┬────────────────────────────────────────────────────────────────────────\u001b[0m\n",
      "       \u001b[38;5;246m│ \u001b[0mFile: \u001b[1mhello.java\u001b[0m\n",
      "\u001b[38;5;246m───────┼────────────────────────────────────────────────────────────────────────\u001b[0m\n",
      "\u001b[38;5;246m   1\u001b[0m   \u001b[38;5;246m│\u001b[0m \u001b[38;5;242m//\u001b[0m\u001b[38;5;242m/usr/bin/env jbang \"$0\" \"$@\" ; exit $?\u001b[0m\n",
      "\u001b[38;5;246m   2\u001b[0m   \u001b[38;5;246m│\u001b[0m \n",
      "\u001b[38;5;246m   3\u001b[0m   \u001b[38;5;246m│\u001b[0m \n",
      "\u001b[38;5;246m   4\u001b[0m   \u001b[38;5;246m│\u001b[0m \u001b[38;5;203mimport\u001b[0m\u001b[38;5;231m \u001b[0m\u001b[38;5;203mstatic\u001b[0m\u001b[38;5;231m \u001b[0m\u001b[38;5;149mjava\u001b[0m\u001b[38;5;231m.\u001b[0m\u001b[38;5;149mlang\u001b[0m\u001b[38;5;231m.\u001b[0m\u001b[38;5;149mSystem\u001b[0m\u001b[38;5;231m.\u001b[0m\u001b[38;5;203m*\u001b[0m\u001b[38;5;231m;\u001b[0m\n",
      "\u001b[38;5;246m   5\u001b[0m   \u001b[38;5;246m│\u001b[0m \n",
      "\u001b[38;5;246m   6\u001b[0m   \u001b[38;5;246m│\u001b[0m \u001b[38;5;203mpublic\u001b[0m\u001b[38;5;231m \u001b[0m\u001b[38;5;81mclass\u001b[0m\u001b[38;5;231m \u001b[0m\u001b[4;38;5;81mhello\u001b[0m\u001b[38;5;231m \u001b[0m\u001b[38;5;231m{\u001b[0m\n",
      "\u001b[38;5;246m   7\u001b[0m   \u001b[38;5;246m│\u001b[0m \n",
      "\u001b[38;5;246m   8\u001b[0m   \u001b[38;5;246m│\u001b[0m \u001b[38;5;231m    \u001b[0m\u001b[38;5;203mpublic\u001b[0m\u001b[38;5;231m \u001b[0m\u001b[38;5;203mstatic\u001b[0m\u001b[38;5;231m \u001b[0m\u001b[38;5;81mvoid\u001b[0m\u001b[38;5;231m \u001b[0m\u001b[38;5;149mmain\u001b[0m\u001b[38;5;231m(\u001b[0m\u001b[38;5;149mString\u001b[0m\u001b[38;5;203m...\u001b[0m\u001b[38;5;231m \u001b[0m\u001b[38;5;208margs\u001b[0m\u001b[38;5;231m)\u001b[0m\u001b[38;5;231m \u001b[0m\u001b[38;5;231m{\u001b[0m\n",
      "\u001b[38;5;246m   9\u001b[0m   \u001b[38;5;246m│\u001b[0m \u001b[38;5;231m        out\u001b[0m\u001b[38;5;231m.\u001b[0m\u001b[38;5;231mprintln\u001b[0m\u001b[38;5;231m(\u001b[0m\u001b[38;5;186m\"\u001b[0m\u001b[38;5;186mHello World\u001b[0m\u001b[38;5;186m\"\u001b[0m\u001b[38;5;231m)\u001b[0m\u001b[38;5;231m;\u001b[0m\n",
      "\u001b[38;5;246m  10\u001b[0m   \u001b[38;5;246m│\u001b[0m \u001b[38;5;231m    \u001b[0m\u001b[38;5;231m}\u001b[0m\n",
      "\u001b[38;5;246m  11\u001b[0m   \u001b[38;5;246m│\u001b[0m \u001b[38;5;231m}\u001b[0m\n",
      "\u001b[38;5;246m───────┴────────────────────────────────────────────────────────────────────────\u001b[0m\n"
     ]
    }
   ],
   "source": [
    "jbang init hello.java\n",
    "bat hello.java"
   ]
  },
  {
   "cell_type": "markdown",
   "id": "d04aea6a",
   "metadata": {},
   "source": [
    "Run the Java file"
   ]
  },
  {
   "cell_type": "code",
   "execution_count": 105,
   "id": "88c52995",
   "metadata": {
    "vscode": {
     "languageId": "shellscript"
    }
   },
   "outputs": [
    {
     "name": "stdout",
     "output_type": "stream",
     "text": [
      "Hello World\n"
     ]
    }
   ],
   "source": [
    "jbang hello.java"
   ]
  },
  {
   "cell_type": "markdown",
   "id": "7ac244ed",
   "metadata": {},
   "source": [
    "We can even make files executable"
   ]
  },
  {
   "cell_type": "code",
   "execution_count": 106,
   "id": "2bb13678",
   "metadata": {
    "vscode": {
     "languageId": "shellscript"
    }
   },
   "outputs": [
    {
     "name": "stdout",
     "output_type": "stream",
     "text": [
      "Hello World\n"
     ]
    }
   ],
   "source": [
    "chmod +x hello.java\n",
    "./hello.java"
   ]
  },
  {
   "cell_type": "markdown",
   "id": "2b2259a1",
   "metadata": {},
   "source": [
    "Export the file to many formats with the `jbang export [format]` command: portable, fatjar, native-image, jlink, native."
   ]
  },
  {
   "cell_type": "code",
   "execution_count": 107,
   "id": "f395ece3",
   "metadata": {
    "vscode": {
     "languageId": "shellscript"
    }
   },
   "outputs": [
    {
     "name": "stdout",
     "output_type": "stream",
     "text": [
      "[jbang] Exported to /Users/yassinebenabbas/dev/github/yostane/jbang-catalog/jbang-devoxxuk2025/work/hello-fatjar.jar\n",
      "[jbang] This is an experimental feature and might not to work for certain applications!\n",
      "[jbang] Help us improve by reporting any issue you find at https://github.com/jbangdev/jbang/issues\n",
      "Hello World\n"
     ]
    }
   ],
   "source": [
    "jbang export fatjar hello.java\n",
    "jbang ./hello-fatjar.jar"
   ]
  },
  {
   "cell_type": "markdown",
   "id": "133a3771",
   "metadata": {},
   "source": [
    "We can export to Gradle or Maven project."
   ]
  },
  {
   "cell_type": "code",
   "execution_count": 108,
   "id": "e03107e6",
   "metadata": {
    "vscode": {
     "languageId": "shellscript"
    }
   },
   "outputs": [
    {
     "name": "stdout",
     "output_type": "stream",
     "text": [
      "rm: ./hello: No such file or directory\n",
      "[jbang] No explicit group found, using org.example.project as fallback.\n",
      "[jbang] Exported as gradle project to /Users/yassinebenabbas/dev/github/yostane/jbang-catalog/jbang-devoxxuk2025/work/hello\n",
      "[jbang] Export to gradle is a best-effort to try match JBang build.\n",
      "[jbang] If something can be improved please open issue at open an issue at https://github.com/jbangdev/jbang/issues with reproducer.\n",
      "build.gradle\tsrc\n"
     ]
    }
   ],
   "source": [
    "rm -r ./hello\n",
    "jbang export gradle hello.java\n",
    "ls hello"
   ]
  },
  {
   "cell_type": "markdown",
   "id": "49f382f6",
   "metadata": {},
   "source": [
    "![that's all folks](./assets/thats_all_fol.gif)\n",
    "\n",
    "?\n",
    "\n",
    "![nah](./assets/nah.gif)\n",
    "\n",
    "## Remote scripts and catalogs\n",
    "\n",
    "Loading scripts from a URL (will ask for permission to download the script)"
   ]
  },
  {
   "cell_type": "code",
   "execution_count": null,
   "id": "000b15ce",
   "metadata": {
    "vscode": {
     "languageId": "shellscript"
    }
   },
   "outputs": [
    {
     "name": "stdout",
     "output_type": "stream",
     "text": [
      "[jbang] https://gist.github.com/maxandersen/f43b4c52dfcfc42dcd59a04e49acf6ec is not from a trusted source thus not running it automatically.\n",
      "\n",
      "If you trust the url to be safe to run you can do one of the following\n",
      "\n",
      "(1) Trust once: Add no trust, only allow access to this URL for the duration of this run\n",
      "(2) Trust limited url in future: https://gist.github.com/maxandersen/\n",
      "(0) Cancel\n",
      "\n",
      "[jbang] Type in your choice and hit enter. Will automatically select option (0) after 30 seconds.\n",
      "\n"
     ]
    }
   ],
   "source": [
    "jbang https://gist.github.com/maxandersen/f43b4c52dfcfc42dcd59a04e49acf6ec"
   ]
  },
  {
   "cell_type": "code",
   "execution_count": 110,
   "id": "86ad136e",
   "metadata": {
    "vscode": {
     "languageId": "shellscript"
    }
   },
   "outputs": [
    {
     "name": "stdout",
     "output_type": "stream",
     "text": [
      "[jbang] Trusting permanently: [https://gist.github.com/maxandersen/]\n",
      "1\n",
      "2\n",
      "Fizz\n",
      "4\n",
      "Buzz\n",
      "Fizz\n",
      "7\n",
      "8\n",
      "Fizz\n",
      "Buzz\n",
      "11\n",
      "Fizz\n",
      "13\n",
      "14\n",
      "FizzBuzz\n",
      "16\n",
      "17\n",
      "Fizz\n",
      "19\n",
      "Buzz\n",
      "Fizz\n",
      "22\n",
      "23\n",
      "Fizz\n",
      "Buzz\n",
      "26\n",
      "Fizz\n",
      "28\n",
      "29\n",
      "FizzBuzz\n",
      "31\n",
      "32\n",
      "Fizz\n",
      "34\n",
      "Buzz\n",
      "Fizz\n",
      "37\n",
      "38\n",
      "Fizz\n",
      "Buzz\n",
      "41\n",
      "Fizz\n",
      "43\n",
      "44\n",
      "FizzBuzz\n",
      "46\n",
      "47\n",
      "Fizz\n",
      "49\n",
      "Buzz\n",
      "Fizz\n",
      "52\n",
      "53\n",
      "Fizz\n",
      "Buzz\n",
      "56\n",
      "Fizz\n",
      "58\n",
      "59\n",
      "FizzBuzz\n",
      "61\n",
      "62\n",
      "Fizz\n",
      "64\n",
      "Buzz\n",
      "Fizz\n",
      "67\n",
      "68\n",
      "Fizz\n",
      "Buzz\n",
      "71\n",
      "Fizz\n",
      "73\n",
      "74\n",
      "FizzBuzz\n",
      "76\n",
      "77\n",
      "Fizz\n",
      "79\n",
      "Buzz\n",
      "Fizz\n",
      "82\n",
      "83\n",
      "Fizz\n",
      "Buzz\n",
      "86\n",
      "Fizz\n",
      "88\n",
      "89\n",
      "FizzBuzz\n",
      "91\n",
      "92\n",
      "Fizz\n",
      "94\n",
      "Buzz\n",
      "Fizz\n",
      "97\n",
      "98\n",
      "Fizz\n",
      "Buzz\n",
      "[jbang] Removing permanent trust: [https://gist.github.com/maxandersen/]\n"
     ]
    }
   ],
   "source": [
    "jbang trust add https://gist.github.com/maxandersen/\n",
    "jbang https://gist.github.com/maxandersen/f43b4c52dfcfc42dcd59a04e49acf6ec\n",
    "jbang trust remove https://gist.github.com/maxandersen/"
   ]
  },
  {
   "cell_type": "markdown",
   "id": "ffb93a8c",
   "metadata": {},
   "source": [
    "Catalogs allows to simplify accessing remote **scripts** and **templates** hosted in code reposiroties.\n",
    "\n",
    "This `jbang-catalog.json` file is hosted in [github.com/yostane/jbang-catalog](https://github.com/yostane/jbang-catalog/blob/main/jbang-catalog.json).\n",
    "\n",
    "```json\n",
    "{\n",
    "  \"catalogs\": {},\n",
    "  \"aliases\": {\n",
    "    \"hellojfx\": {\n",
    "\t\t\"script-ref\": \"scripts/hellojfx.java\",\n",
    "\t\t\"description\": \"Basic JavaFX window that shows Java and JavaFx versions\"\n",
    "\t  },\n",
    "  },\n",
    "  \"templates\": {\n",
    "    \"implicit-main\": {\n",
    "      \"file-refs\": {\n",
    "        \"{basename}.kt\": \"templates/im.java\"\n",
    "      },\n",
    "      \"description\": \"Java file wiht Implicitly Declared Classes and Instance Main Method\"\n",
    "    }\n",
    "  }\n",
    "}\n",
    "```"
   ]
  },
  {
   "cell_type": "code",
   "execution_count": 113,
   "id": "feb3a9ce",
   "metadata": {
    "vscode": {
     "languageId": "shellscript"
    }
   },
   "outputs": [],
   "source": [
    "jbang hellojfx@yostane"
   ]
  },
  {
   "cell_type": "markdown",
   "id": "b03e5e6f",
   "metadata": {},
   "source": [
    "![jfx demo](./assets/jfx-demo.png)"
   ]
  },
  {
   "cell_type": "code",
   "execution_count": 112,
   "id": "b658570f",
   "metadata": {
    "vscode": {
     "languageId": "shellscript"
    }
   },
   "outputs": [
    {
     "name": "stdout",
     "output_type": "stream",
     "text": [
      "[jbang] File initialized. You can now run it with 'jbang im.java' or edit it using 'jbang edit --open=[editor] im.java' where [editor] is your editor or IDE, e.g. 'cursor'. If your IDE supports JBang, you can edit the directory instead: 'jbang edit . im.java'. See https://jbang.dev/ide\n",
      "\u001b[38;5;246m───────┬────────────────────────────────────────────────────────────────────────\u001b[0m\n",
      "       \u001b[38;5;246m│ \u001b[0mFile: \u001b[1mim.java\u001b[0m\n",
      "\u001b[38;5;246m───────┼────────────────────────────────────────────────────────────────────────\u001b[0m\n",
      "\u001b[38;5;246m   1\u001b[0m   \u001b[38;5;246m│\u001b[0m \u001b[38;5;242m//\u001b[0m\u001b[38;5;242m/usr/bin/env jbang \"$0\" \"$@\" ; exit $?\u001b[0m\n",
      "\u001b[38;5;246m   2\u001b[0m   \u001b[38;5;246m│\u001b[0m \u001b[38;5;242m//\u001b[0m\u001b[38;5;242mJAVA 24+\u001b[0m\n",
      "\u001b[38;5;246m   3\u001b[0m   \u001b[38;5;246m│\u001b[0m \u001b[38;5;242m//\u001b[0m\u001b[38;5;242mCOMPILE_OPTIONS --enable-preview -source 24\u001b[0m\n",
      "\u001b[38;5;246m   4\u001b[0m   \u001b[38;5;246m│\u001b[0m \u001b[38;5;242m//\u001b[0m\u001b[38;5;242mRUNTIME_OPTIONS --enable-preview\u001b[0m\n",
      "\u001b[38;5;246m   5\u001b[0m   \u001b[38;5;246m│\u001b[0m \n",
      "\u001b[38;5;246m   6\u001b[0m   \u001b[38;5;246m│\u001b[0m \u001b[38;5;231mvoid \u001b[0m\u001b[38;5;231mmain\u001b[0m\u001b[38;5;231m(\u001b[0m\u001b[38;5;149mString\u001b[0m\u001b[38;5;231m.\u001b[0m\u001b[38;5;231m.\u001b[0m\u001b[38;5;231m.\u001b[0m\u001b[38;5;231m args\u001b[0m\u001b[38;5;231m)\u001b[0m\u001b[38;5;231m \u001b[0m\u001b[38;5;231m{\u001b[0m\n",
      "\u001b[38;5;246m   7\u001b[0m   \u001b[38;5;246m│\u001b[0m \u001b[38;5;231m    \u001b[0m\u001b[38;5;149mSystem\u001b[0m\u001b[38;5;231m.\u001b[0m\u001b[38;5;231mout\u001b[0m\u001b[38;5;231m.\u001b[0m\u001b[38;5;231mprintln\u001b[0m\u001b[38;5;231m(\u001b[0m\u001b[38;5;186m\"\u001b[0m\u001b[38;5;186mHello World\u001b[0m\u001b[38;5;186m\"\u001b[0m\u001b[38;5;231m)\u001b[0m\u001b[38;5;231m;\u001b[0m\n",
      "\u001b[38;5;246m   8\u001b[0m   \u001b[38;5;246m│\u001b[0m \u001b[38;5;231m}\u001b[0m\n",
      "\u001b[38;5;246m───────┴────────────────────────────────────────────────────────────────────────\u001b[0m\n",
      "Hello World\n"
     ]
    }
   ],
   "source": [
    "jbang init --template implicit-main@yostane im.java\n",
    "bat im.java\n",
    "jbang im.java"
   ]
  },
  {
   "cell_type": "markdown",
   "id": "071903d9",
   "metadata": {},
   "source": [
    "## Other features"
   ]
  },
  {
   "cell_type": "markdown",
   "id": "96a4790b",
   "metadata": {},
   "source": [
    "- Gradle style dependencies\n",
    "- Additional source files"
   ]
  },
  {
   "cell_type": "code",
   "execution_count": 121,
   "id": "a0f59c68",
   "metadata": {
    "vscode": {
     "languageId": "shellscript"
    }
   },
   "outputs": [
    {
     "name": "stdout",
     "output_type": "stream",
     "text": [
      "[jbang] File initialized. You can now run it with 'jbang presentation/JfxPresentation.java' or edit it using 'jbang edit --open=[editor] presentation/JfxPresentation.java' where [editor] is your editor or IDE, e.g. 'code'. If your IDE supports JBang, you can edit the directory instead: 'jbang edit . presentation/JfxPresentation.java'. See https://jbang.dev/ide\n",
      "JfxPresentation.java\tSlide.java\t\tslide2.fxml\n",
      "Presentation.java\tslide1.fxml\t\tstyle.css\n",
      "\u001b[38;5;246m───────┬────────────────────────────────────────────────────────────────────────\u001b[0m\n",
      "       \u001b[38;5;246m│ \u001b[0mFile: \u001b[1mpresentation/JfxPresentation.java\u001b[0m\n",
      "\u001b[38;5;246m───────┼────────────────────────────────────────────────────────────────────────\u001b[0m\n",
      "\u001b[38;5;246m   1\u001b[0m   \u001b[38;5;246m│\u001b[0m \u001b[38;5;242m//\u001b[0m\u001b[38;5;242m/usr/bin/env jbang \"$0\" \"$@\" ; exit $?\u001b[0m\n",
      "\u001b[38;5;246m   2\u001b[0m   \u001b[38;5;246m│\u001b[0m \u001b[38;5;242m//\u001b[0m\u001b[38;5;242mDEPS org.openjfx:javafx-controls:21\u001b[0m\n",
      "\u001b[38;5;246m   3\u001b[0m   \u001b[38;5;246m│\u001b[0m \u001b[38;5;242m//\u001b[0m\u001b[38;5;242mDEPS org.openjfx:javafx-graphics:21\u001b[0m\n",
      "\u001b[38;5;246m   4\u001b[0m   \u001b[38;5;246m│\u001b[0m \u001b[38;5;242m//\u001b[0m\u001b[38;5;242mDEPS org.openjfx:javafx-fxml:21\u001b[0m\n",
      "\u001b[38;5;246m   5\u001b[0m   \u001b[38;5;246m│\u001b[0m \u001b[38;5;242m//\u001b[0m\u001b[38;5;242mSOURCES Slide.java\u001b[0m\n",
      "\u001b[38;5;246m   6\u001b[0m   \u001b[38;5;246m│\u001b[0m \u001b[38;5;242m//\u001b[0m\u001b[38;5;242mSOURCES Presentation.java\u001b[0m\n",
      "\u001b[38;5;246m   7\u001b[0m   \u001b[38;5;246m│\u001b[0m \u001b[38;5;242m//\u001b[0m\u001b[38;5;242mFILES style.css\u001b[0m\n",
      "\u001b[38;5;246m   8\u001b[0m   \u001b[38;5;246m│\u001b[0m \u001b[38;5;242m//\u001b[0m\u001b[38;5;242mFILES slide1.fxml\u001b[0m\n",
      "\u001b[38;5;246m   9\u001b[0m   \u001b[38;5;246m│\u001b[0m \u001b[38;5;242m//\u001b[0m\u001b[38;5;242mFILES slide2.fxml\u001b[0m\n",
      "\u001b[38;5;246m  10\u001b[0m   \u001b[38;5;246m│\u001b[0m \n",
      "\u001b[38;5;246m  11\u001b[0m   \u001b[38;5;246m│\u001b[0m \u001b[38;5;203mimport\u001b[0m\u001b[38;5;231m \u001b[0m\u001b[38;5;149mjava\u001b[0m\u001b[38;5;231m.\u001b[0m\u001b[38;5;149mutil\u001b[0m\u001b[38;5;231m.\u001b[0m\u001b[38;5;149mList\u001b[0m\u001b[38;5;231m;\u001b[0m\n",
      "\u001b[38;5;246m  12\u001b[0m   \u001b[38;5;246m│\u001b[0m \u001b[38;5;203mimport\u001b[0m\u001b[38;5;231m \u001b[0m\u001b[38;5;149mjava\u001b[0m\u001b[38;5;231m.\u001b[0m\u001b[38;5;149mutil\u001b[0m\u001b[38;5;231m.\u001b[0m\u001b[38;5;149mlogging\u001b[0m\u001b[38;5;231m.\u001b[0m\u001b[38;5;149mLevel\u001b[0m\u001b[38;5;231m;\u001b[0m\n",
      "\u001b[38;5;246m  13\u001b[0m   \u001b[38;5;246m│\u001b[0m \u001b[38;5;203mimport\u001b[0m\u001b[38;5;231m \u001b[0m\u001b[38;5;149mjava\u001b[0m\u001b[38;5;231m.\u001b[0m\u001b[38;5;149mutil\u001b[0m\u001b[38;5;231m.\u001b[0m\u001b[38;5;149mlogging\u001b[0m\u001b[38;5;231m.\u001b[0m\u001b[38;5;149mLogger\u001b[0m\u001b[38;5;231m;\u001b[0m\n",
      "\u001b[38;5;246m  14\u001b[0m   \u001b[38;5;246m│\u001b[0m \n",
      "\u001b[38;5;246m  15\u001b[0m   \u001b[38;5;246m│\u001b[0m \u001b[38;5;203mimport\u001b[0m\u001b[38;5;231m \u001b[0m\u001b[38;5;149mjavafx\u001b[0m\u001b[38;5;231m.\u001b[0m\u001b[38;5;149mapplication\u001b[0m\u001b[38;5;231m.\u001b[0m\u001b[38;5;149mApplication\u001b[0m\u001b[38;5;231m;\u001b[0m\n",
      "\u001b[38;5;246m  16\u001b[0m   \u001b[38;5;246m│\u001b[0m \u001b[38;5;203mimport\u001b[0m\u001b[38;5;231m \u001b[0m\u001b[38;5;149mjavafx\u001b[0m\u001b[38;5;231m.\u001b[0m\u001b[38;5;149mscene\u001b[0m\u001b[38;5;231m.\u001b[0m\u001b[38;5;149mScene\u001b[0m\u001b[38;5;231m;\u001b[0m\n",
      "\u001b[38;5;246m  17\u001b[0m   \u001b[38;5;246m│\u001b[0m \u001b[38;5;203mimport\u001b[0m\u001b[38;5;231m \u001b[0m\u001b[38;5;149mjavafx\u001b[0m\u001b[38;5;231m.\u001b[0m\u001b[38;5;149mstage\u001b[0m\u001b[38;5;231m.\u001b[0m\u001b[38;5;149mScreen\u001b[0m\u001b[38;5;231m;\u001b[0m\n",
      "\u001b[38;5;246m  18\u001b[0m   \u001b[38;5;246m│\u001b[0m \u001b[38;5;203mimport\u001b[0m\u001b[38;5;231m \u001b[0m\u001b[38;5;149mjavafx\u001b[0m\u001b[38;5;231m.\u001b[0m\u001b[38;5;149mstage\u001b[0m\u001b[38;5;231m.\u001b[0m\u001b[38;5;149mStage\u001b[0m\u001b[38;5;231m;\u001b[0m\n",
      "\u001b[38;5;246m  19\u001b[0m   \u001b[38;5;246m│\u001b[0m \n",
      "\u001b[38;5;246m  20\u001b[0m   \u001b[38;5;246m│\u001b[0m \u001b[38;5;203mpublic\u001b[0m\u001b[38;5;231m \u001b[0m\u001b[38;5;81mclass\u001b[0m\u001b[38;5;231m \u001b[0m\u001b[4;38;5;81mJfxPresentation\u001b[0m\u001b[38;5;231m \u001b[0m\u001b[38;5;203mextends\u001b[0m\u001b[38;5;231m \u001b[0m\u001b[4;38;5;149mApplication\u001b[0m\u001b[38;5;231m \u001b[0m\u001b[38;5;231m{\u001b[0m\n",
      "\u001b[38;5;246m  21\u001b[0m   \u001b[38;5;246m│\u001b[0m \n",
      "\u001b[38;5;246m  22\u001b[0m   \u001b[38;5;246m│\u001b[0m \u001b[38;5;231m    \u001b[0m\u001b[38;5;231m@\u001b[0m\u001b[38;5;231mOverride\u001b[0m\n",
      "\u001b[38;5;246m  23\u001b[0m   \u001b[38;5;246m│\u001b[0m \u001b[38;5;231m    \u001b[0m\u001b[38;5;203mpublic\u001b[0m\u001b[38;5;231m \u001b[0m\u001b[38;5;81mvoid\u001b[0m\u001b[38;5;231m \u001b[0m\u001b[38;5;149mstart\u001b[0m\u001b[38;5;231m(\u001b[0m\u001b[38;5;149mStage\u001b[0m\u001b[38;5;231m \u001b[0m\u001b[38;5;208mstage\u001b[0m\u001b[38;5;231m)\u001b[0m\u001b[38;5;231m \u001b[0m\u001b[38;5;203mthrows\u001b[0m\u001b[38;5;231m \u001b[0m\u001b[38;5;149mException\u001b[0m\u001b[38;5;231m \u001b[0m\u001b[38;5;231m{\u001b[0m\n",
      "\u001b[38;5;246m  24\u001b[0m   \u001b[38;5;246m│\u001b[0m \n",
      "\u001b[38;5;246m  25\u001b[0m   \u001b[38;5;246m│\u001b[0m \u001b[38;5;231m        \u001b[0m\u001b[38;5;203mfinal\u001b[0m\u001b[38;5;231m \u001b[0m\u001b[38;5;149mPresentation\u001b[0m\u001b[38;5;231m presentation \u001b[0m\u001b[38;5;203m=\u001b[0m\u001b[38;5;231m \u001b[0m\u001b[38;5;203mnew\u001b[0m\u001b[38;5;231m \u001b[0m\u001b[38;5;149mPresentation\u001b[0m\u001b[38;5;231m(\u001b[0m\u001b[38;5;231m)\u001b[0m\u001b[38;5;231m;\u001b[0m\n",
      "\u001b[38;5;246m  26\u001b[0m   \u001b[38;5;246m│\u001b[0m \u001b[38;5;231m        presentation\u001b[0m\u001b[38;5;231m.\u001b[0m\u001b[38;5;231maddSlide\u001b[0m\u001b[38;5;231m(\u001b[0m\u001b[38;5;203mnew\u001b[0m\u001b[38;5;231m \u001b[0m\u001b[38;5;149mSlide\u001b[0m\u001b[38;5;231m(\u001b[0m\u001b[38;5;186m\"\u001b[0m\u001b[38;5;186mslide1.fxml\u001b[0m\u001b[38;5;186m\"\u001b[0m\u001b[38;5;231m)\u001b[0m\u001b[38;5;231m)\u001b[0m\u001b[38;5;231m;\u001b[0m\n",
      "\u001b[38;5;246m  27\u001b[0m   \u001b[38;5;246m│\u001b[0m \u001b[38;5;231m        presentation\u001b[0m\u001b[38;5;231m.\u001b[0m\u001b[38;5;231maddSlide\u001b[0m\u001b[38;5;231m(\u001b[0m\u001b[38;5;203mnew\u001b[0m\u001b[38;5;231m \u001b[0m\u001b[38;5;149mSlide\u001b[0m\u001b[38;5;231m(\u001b[0m\u001b[38;5;186m\"\u001b[0m\u001b[38;5;186mslide2.fxml\u001b[0m\u001b[38;5;186m\"\u001b[0m\u001b[38;5;231m)\u001b[0m\u001b[38;5;231m)\u001b[0m\u001b[38;5;231m;\u001b[0m\n",
      "\u001b[38;5;246m  28\u001b[0m   \u001b[38;5;246m│\u001b[0m \n",
      "\u001b[38;5;246m  29\u001b[0m   \u001b[38;5;246m│\u001b[0m \u001b[38;5;231m        \u001b[0m\u001b[38;5;203mfinal\u001b[0m\u001b[38;5;231m \u001b[0m\u001b[38;5;149mScene\u001b[0m\u001b[38;5;231m scene \u001b[0m\u001b[38;5;203m=\u001b[0m\u001b[38;5;231m \u001b[0m\u001b[38;5;203mnew\u001b[0m\u001b[38;5;231m \u001b[0m\u001b[38;5;149mScene\u001b[0m\u001b[38;5;231m(\u001b[0m\u001b[38;5;231mpresentation\u001b[0m\u001b[38;5;231m)\u001b[0m\u001b[38;5;231m;\u001b[0m\n",
      "\u001b[38;5;246m  30\u001b[0m   \u001b[38;5;246m│\u001b[0m \u001b[38;5;231m        scene\u001b[0m\u001b[38;5;231m.\u001b[0m\u001b[38;5;231mgetStylesheets\u001b[0m\u001b[38;5;231m(\u001b[0m\u001b[38;5;231m)\u001b[0m\u001b[38;5;231m.\u001b[0m\u001b[38;5;231madd\u001b[0m\u001b[38;5;231m(\u001b[0m\u001b[38;5;231mgetClass\u001b[0m\u001b[38;5;231m(\u001b[0m\u001b[38;5;231m)\u001b[0m\u001b[38;5;231m.\u001b[0m\u001b[38;5;231mgetResource\u001b[0m\u001b[38;5;231m(\u001b[0m\u001b[38;5;186m\"\u001b[0m\u001b[38;5;186mstyle.css\u001b[0m\u001b[38;5;186m\"\u001b[0m\u001b[38;5;231m)\u001b[0m\u001b[38;5;231m.\u001b[0m\n",
      "\u001b[38;5;246m    \u001b[0m   \u001b[38;5;246m│\u001b[0m \u001b[38;5;231mtoExternalForm\u001b[0m\u001b[38;5;231m(\u001b[0m\u001b[38;5;231m)\u001b[0m\u001b[38;5;231m)\u001b[0m\u001b[38;5;231m;\u001b[0m\n",
      "\u001b[38;5;246m  31\u001b[0m   \u001b[38;5;246m│\u001b[0m \u001b[38;5;231m        stage\u001b[0m\u001b[38;5;231m.\u001b[0m\u001b[38;5;231msetScene\u001b[0m\u001b[38;5;231m(\u001b[0m\u001b[38;5;231mscene\u001b[0m\u001b[38;5;231m)\u001b[0m\u001b[38;5;231m;\u001b[0m\n",
      "\u001b[38;5;246m  32\u001b[0m   \u001b[38;5;246m│\u001b[0m \u001b[38;5;231m        stage\u001b[0m\u001b[38;5;231m.\u001b[0m\u001b[38;5;231msetFullScreen\u001b[0m\u001b[38;5;231m(\u001b[0m\u001b[38;5;141mtrue\u001b[0m\u001b[38;5;231m)\u001b[0m\u001b[38;5;231m;\u001b[0m\n",
      "\u001b[38;5;246m  33\u001b[0m   \u001b[38;5;246m│\u001b[0m \u001b[38;5;231m        presentation\u001b[0m\u001b[38;5;231m.\u001b[0m\u001b[38;5;231mstart\u001b[0m\u001b[38;5;231m(\u001b[0m\u001b[38;5;231m)\u001b[0m\u001b[38;5;231m;\u001b[0m\n",
      "\u001b[38;5;246m  34\u001b[0m   \u001b[38;5;246m│\u001b[0m \u001b[38;5;231m        \u001b[0m\u001b[38;5;149mList\u001b[0m\u001b[38;5;231m<\u001b[0m\u001b[38;5;149mScreen\u001b[0m\u001b[38;5;231m>\u001b[0m\u001b[38;5;231m screens \u001b[0m\u001b[38;5;203m=\u001b[0m\u001b[38;5;231m \u001b[0m\u001b[38;5;149mScreen\u001b[0m\u001b[38;5;231m.\u001b[0m\u001b[38;5;231mgetScreens\u001b[0m\u001b[38;5;231m(\u001b[0m\u001b[38;5;231m)\u001b[0m\u001b[38;5;231m;\u001b[0m\n",
      "\u001b[38;5;246m  35\u001b[0m   \u001b[38;5;246m│\u001b[0m \u001b[38;5;231m        \u001b[0m\u001b[38;5;149mLogger\u001b[0m\u001b[38;5;231m.\u001b[0m\u001b[38;5;231mgetGlobal\u001b[0m\u001b[38;5;231m(\u001b[0m\u001b[38;5;231m)\u001b[0m\u001b[38;5;231m.\u001b[0m\u001b[38;5;231mlog\u001b[0m\u001b[38;5;231m(\u001b[0m\u001b[38;5;149mLevel\u001b[0m\u001b[38;5;231m.\u001b[0m\u001b[38;5;141mINFO\u001b[0m\u001b[38;5;231m,\u001b[0m\u001b[38;5;231m \u001b[0m\u001b[38;5;186m\"\u001b[0m\u001b[38;5;186mloaded scenes 0\u001b[0m\u001b[38;5;186m\"\u001b[0m\u001b[38;5;231m,\u001b[0m\u001b[38;5;231m screens\u001b[0m\u001b[38;5;231m.\u001b[0m\u001b[38;5;231ms\u001b[0m\n",
      "\u001b[38;5;246m    \u001b[0m   \u001b[38;5;246m│\u001b[0m \u001b[38;5;231mize\u001b[0m\u001b[38;5;231m(\u001b[0m\u001b[38;5;231m)\u001b[0m\u001b[38;5;231m)\u001b[0m\u001b[38;5;231m;\u001b[0m\n",
      "\u001b[38;5;246m  36\u001b[0m   \u001b[38;5;246m│\u001b[0m \u001b[38;5;231m        stage\u001b[0m\u001b[38;5;231m.\u001b[0m\u001b[38;5;231mshow\u001b[0m\u001b[38;5;231m(\u001b[0m\u001b[38;5;231m)\u001b[0m\u001b[38;5;231m;\u001b[0m\n",
      "\u001b[38;5;246m  37\u001b[0m   \u001b[38;5;246m│\u001b[0m \u001b[38;5;231m    \u001b[0m\u001b[38;5;231m}\u001b[0m\n",
      "\u001b[38;5;246m  38\u001b[0m   \u001b[38;5;246m│\u001b[0m \n",
      "\u001b[38;5;246m  39\u001b[0m   \u001b[38;5;246m│\u001b[0m \u001b[38;5;231m    \u001b[0m\u001b[38;5;203mpublic\u001b[0m\u001b[38;5;231m \u001b[0m\u001b[38;5;203mstatic\u001b[0m\u001b[38;5;231m \u001b[0m\u001b[38;5;81mvoid\u001b[0m\u001b[38;5;231m \u001b[0m\u001b[38;5;149mmain\u001b[0m\u001b[38;5;231m(\u001b[0m\u001b[38;5;149mString\u001b[0m\u001b[38;5;203m[]\u001b[0m\u001b[38;5;231m \u001b[0m\u001b[38;5;208margs\u001b[0m\u001b[38;5;231m)\u001b[0m\u001b[38;5;231m \u001b[0m\u001b[38;5;231m{\u001b[0m\n",
      "\u001b[38;5;246m  40\u001b[0m   \u001b[38;5;246m│\u001b[0m \u001b[38;5;231m        \u001b[0m\u001b[38;5;231mlaunch\u001b[0m\u001b[38;5;231m(\u001b[0m\u001b[38;5;231margs\u001b[0m\u001b[38;5;231m)\u001b[0m\u001b[38;5;231m;\u001b[0m\n",
      "\u001b[38;5;246m  41\u001b[0m   \u001b[38;5;246m│\u001b[0m \u001b[38;5;231m    \u001b[0m\u001b[38;5;231m}\u001b[0m\n",
      "\u001b[38;5;246m  42\u001b[0m   \u001b[38;5;246m│\u001b[0m \u001b[38;5;231m}\u001b[0m\n",
      "\u001b[38;5;246m───────┴────────────────────────────────────────────────────────────────────────\u001b[0m\n"
     ]
    }
   ],
   "source": [
    "rm -r ./presentation\n",
    "jbang init --template javafx-presentation@yostane presentation/JfxPresentation.java\n",
    "ls presentation\n",
    "bat presentation/JfxPresentation.java"
   ]
  },
  {
   "cell_type": "code",
   "execution_count": 122,
   "id": "3b23575a",
   "metadata": {
    "vscode": {
     "languageId": "shellscript"
    }
   },
   "outputs": [
    {
     "name": "stdout",
     "output_type": "stream",
     "text": [
      "[jbang] Building jar for JfxPresentation.java...\n",
      "Apr 18, 2025 12:18:28 PM com.sun.glass.ui.mac.MacApplication lambda$waitForReactivation$6\n",
      "WARNING: Timeout while waiting for app reactivation\n",
      "Exception in Application start method\n",
      "java.lang.reflect.InvocationTargetException\n",
      "\tat java.base/jdk.internal.reflect.DirectMethodHandleAccessor.invoke(DirectMethodHandleAccessor.java:118)\n",
      "\tat java.base/java.lang.reflect.Method.invoke(Method.java:580)\n",
      "\tat javafx.graphics@21/com.sun.javafx.application.LauncherImpl.launchApplicationWithArgs(LauncherImpl.java:464)\n",
      "\tat javafx.graphics@21/com.sun.javafx.application.LauncherImpl.launchApplication(LauncherImpl.java:364)\n",
      "\tat java.base/jdk.internal.reflect.DirectMethodHandleAccessor.invoke(DirectMethodHandleAccessor.java:103)\n",
      "\tat java.base/java.lang.reflect.Method.invoke(Method.java:580)\n",
      "\tat java.base/sun.launcher.LauncherHelper$FXHelper.main(LauncherHelper.java:1149)\n",
      "Caused by: java.lang.RuntimeException: Exception in Application start method\n",
      "\tat javafx.graphics@21/com.sun.javafx.application.LauncherImpl.launchApplication1(LauncherImpl.java:893)\n",
      "\tat javafx.graphics@21/com.sun.javafx.application.LauncherImpl.lambda$launchApplication$2(LauncherImpl.java:196)\n",
      "\tat java.base/java.lang.Thread.run(Thread.java:1583)\n",
      "Caused by: java.lang.RuntimeException: javafx.fxml.LoadException: Loading FXML document of version 21 by JavaFX runtime supporting version 1\n",
      "file:/Users/yassinebenabbas/.jbang/cache/jars/JfxPresentation.java.41a941a5cf28305ae35a5e9c8fcd623587545c7d6ecaaf8f8a74f99c1d3d2ed7/JfxPresentation.jar!/slide1.fxml:6\n",
      "\n",
      "\tat Slide.<init>(Slide.java:19)\n",
      "\tat JfxPresentation.start(JfxPresentation.java:26)\n",
      "\tat javafx.graphics@21/com.sun.javafx.application.LauncherImpl.lambda$launchApplication1$9(LauncherImpl.java:839)\n",
      "\tat javafx.graphics@21/com.sun.javafx.application.PlatformImpl.lambda$runAndWait$12(PlatformImpl.java:483)\n",
      "\tat javafx.graphics@21/com.sun.javafx.application.PlatformImpl.lambda$runLater$10(PlatformImpl.java:456)\n",
      "\tat java.base/java.security.AccessController.doPrivileged(AccessController.java:400)\n",
      "\tat javafx.graphics@21/com.sun.javafx.application.PlatformImpl.lambda$runLater$11(PlatformImpl.java:455)\n",
      "\tat javafx.graphics@21/com.sun.glass.ui.InvokeLaterDispatcher$Future.run(InvokeLaterDispatcher.java:95)\n",
      "Caused by: javafx.fxml.LoadException: Loading FXML document of version 21 by JavaFX runtime supporting version 1\n",
      "file:/Users/yassinebenabbas/.jbang/cache/jars/JfxPresentation.java.41a941a5cf28305ae35a5e9c8fcd623587545c7d6ecaaf8f8a74f99c1d3d2ed7/JfxPresentation.jar!/slide1.fxml:6\n",
      "\n",
      "\tat javafx.fxml@21/javafx.fxml.FXMLLoader.constructLoadException(FXMLLoader.java:2718)\n",
      "\tat javafx.fxml@21/javafx.fxml.FXMLLoader$ValueElement.processValue(FXMLLoader.java:837)\n",
      "\tat javafx.fxml@21/javafx.fxml.FXMLLoader$ValueElement.processStartElement(FXMLLoader.java:764)\n",
      "\tat javafx.fxml@21/javafx.fxml.FXMLLoader.processStartElement(FXMLLoader.java:2853)\n",
      "\tat javafx.fxml@21/javafx.fxml.FXMLLoader.loadImpl(FXMLLoader.java:2649)\n",
      "\tat javafx.fxml@21/javafx.fxml.FXMLLoader.loadImpl(FXMLLoader.java:2563)\n",
      "\tat javafx.fxml@21/javafx.fxml.FXMLLoader.load(FXMLLoader.java:2531)\n",
      "\tat Slide.<init>(Slide.java:17)\n",
      "\t... 7 more\n",
      "Exception running application JfxPresentation\n"
     ]
    },
    {
     "ename": "",
     "evalue": "1",
     "output_type": "error",
     "traceback": []
    }
   ],
   "source": [
    "jbang presentation/JfxPresentation.java"
   ]
  },
  {
   "cell_type": "markdown",
   "id": "956ac6e8",
   "metadata": {},
   "source": [
    "## References\n",
    "\n",
    "- [How to Use Bash Commands in Jupyter Notebook](https://saturncloud.io/blog/how-to-use-bash-commands-in-jupyter-notebook/)\n",
    "- [giphy.com](https://giphy.com/gifs/nope-nah-fam-WTjnWYENpLxS8JQ5rz)\n",
    "- [tenor.com](https://tenor.com/view/that's-all-folks-thats-all-folks-thats-all-bugs-bunny-movie-gif-2051142853146731971)"
   ]
  }
 ],
 "metadata": {
  "kernelspec": {
   "display_name": "Bash",
   "language": "bash",
   "name": "bash"
  },
  "language_info": {
   "codemirror_mode": "shell",
   "file_extension": ".sh",
   "mimetype": "text/x-sh",
   "name": "bash"
  }
 },
 "nbformat": 4,
 "nbformat_minor": 5
}
