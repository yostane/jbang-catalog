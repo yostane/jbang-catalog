{
 "cells": [
  {
   "cell_type": "markdown",
   "id": "a7a262a4",
   "metadata": {},
   "source": [
    "# [DevoxxUK 2025] Scripting on the JVM with JBang\n",
    "\n",
    "![Logo](./assets/jbang_logo.svg)\n",
    "\n",
    "When it comes to large projects, the Java ecosystem has Maven and Gradle. However, the file structure of these tools is not suitable for projects containing a single source code file. Fortunately for us, JBang makes developing small projects in Java, Kotlin, or Groovy as simple as in Python. Since I discovered this tool, it hasn't left my side, and I'm excited to share it with you.\n",
    "During this session, we will cover the setup and usage of the JBang tool, from project creation to deployment.\n",
    "If you're a teacher, a developer of demos / small programs, or you simply enjoy coding in Java, then this session is made for you."
   ]
  },
  {
   "cell_type": "markdown",
   "id": "882ccb08",
   "metadata": {},
   "source": [
    "## Prerequisites\n",
    "\n",
    "- Install [Jbang](https://www.jbang.dev/download/)\n",
    "   ```sh\n",
    "    curl -Ls https://sh.jbang.dev | bash -s - app setup # Linux/OSX/Windows/AIX Bash:\n",
    "    iex \"& { $(iwr -useb https://ps.jbang.dev) } app setup\" # Windows Powershell\n",
    "    ```\n",
    "- Install [the bash kernel for Jupyter](https://pypi.org/project/bash_kernel/) to run the code in this nodebook\n",
    "    ```sh\n",
    "    pip install bash_kernel\n",
    "    python -m bash_kernel.install\n",
    "    ```\n",
    "\n",
    "## Notebook setup\n",
    "\n",
    "This part works only on Linux and MacOS. If you are on Windows, please run the commands in a bash shell.\n",
    "\n",
    "Setup working directory"
   ]
  },
  {
   "cell_type": "code",
   "execution_count": 31,
   "id": "2ac25b2c",
   "metadata": {
    "vscode": {
     "languageId": "shellscript"
    }
   },
   "outputs": [
    {
     "name": "stdout",
     "output_type": "stream",
     "text": [
      "/Users/yassinebenabbas/dev/github/yostane/jbang-catalog/jbang-devoxxuk2025\n"
     ]
    }
   ],
   "source": [
    "if [ -z ${base} ]; then base=$(pwd); fi\n",
    "echo $base\n",
    "cd $base\n",
    "mkdir -p work\n",
    "rm -rf ./work/*\n",
    "cd work"
   ]
  },
  {
   "cell_type": "markdown",
   "id": "55fa4da2",
   "metadata": {},
   "source": [
    "## Basic features\n",
    "\n",
    "Initialize a new Java file"
   ]
  },
  {
   "cell_type": "code",
   "execution_count": null,
   "id": "e453d053",
   "metadata": {
    "notebookRunGroups": {
     "groupValue": "1"
    },
    "vscode": {
     "languageId": "shellscript"
    }
   },
   "outputs": [
    {
     "name": "stdout",
     "output_type": "stream",
     "text": [
      "[jbang] File initialized. You can now run it with 'jbang hello.java' or edit it using 'jbang edit --open=[editor] hello.java' where [editor] is your editor or IDE, e.g. 'eclipse'. If your IDE supports JBang, you can edit the directory instead: 'jbang edit . hello.java'. See https://jbang.dev/ide\n",
      "\u001b[38;5;246m───────┬────────────────────────────────────────────────────────────────────────\u001b[0m\n",
      "       \u001b[38;5;246m│ \u001b[0mFile: \u001b[1mhello.java\u001b[0m\n",
      "\u001b[38;5;246m───────┼────────────────────────────────────────────────────────────────────────\u001b[0m\n",
      "\u001b[38;5;246m   1\u001b[0m   \u001b[38;5;246m│\u001b[0m \u001b[38;5;242m//\u001b[0m\u001b[38;5;242m/usr/bin/env jbang \"$0\" \"$@\" ; exit $?\u001b[0m\n",
      "\u001b[38;5;246m   2\u001b[0m   \u001b[38;5;246m│\u001b[0m \n",
      "\u001b[38;5;246m   3\u001b[0m   \u001b[38;5;246m│\u001b[0m \n",
      "\u001b[38;5;246m   4\u001b[0m   \u001b[38;5;246m│\u001b[0m \u001b[38;5;203mimport\u001b[0m\u001b[38;5;231m \u001b[0m\u001b[38;5;203mstatic\u001b[0m\u001b[38;5;231m \u001b[0m\u001b[38;5;149mjava\u001b[0m\u001b[38;5;231m.\u001b[0m\u001b[38;5;149mlang\u001b[0m\u001b[38;5;231m.\u001b[0m\u001b[38;5;149mSystem\u001b[0m\u001b[38;5;231m.\u001b[0m\u001b[38;5;203m*\u001b[0m\u001b[38;5;231m;\u001b[0m\n",
      "\u001b[38;5;246m   5\u001b[0m   \u001b[38;5;246m│\u001b[0m \n",
      "\u001b[38;5;246m   6\u001b[0m   \u001b[38;5;246m│\u001b[0m \u001b[38;5;203mpublic\u001b[0m\u001b[38;5;231m \u001b[0m\u001b[38;5;81mclass\u001b[0m\u001b[38;5;231m \u001b[0m\u001b[4;38;5;81mhello\u001b[0m\u001b[38;5;231m \u001b[0m\u001b[38;5;231m{\u001b[0m\n",
      "\u001b[38;5;246m   7\u001b[0m   \u001b[38;5;246m│\u001b[0m \n",
      "\u001b[38;5;246m   8\u001b[0m   \u001b[38;5;246m│\u001b[0m \u001b[38;5;231m    \u001b[0m\u001b[38;5;203mpublic\u001b[0m\u001b[38;5;231m \u001b[0m\u001b[38;5;203mstatic\u001b[0m\u001b[38;5;231m \u001b[0m\u001b[38;5;81mvoid\u001b[0m\u001b[38;5;231m \u001b[0m\u001b[38;5;149mmain\u001b[0m\u001b[38;5;231m(\u001b[0m\u001b[38;5;149mString\u001b[0m\u001b[38;5;203m...\u001b[0m\u001b[38;5;231m \u001b[0m\u001b[38;5;208margs\u001b[0m\u001b[38;5;231m)\u001b[0m\u001b[38;5;231m \u001b[0m\u001b[38;5;231m{\u001b[0m\n",
      "\u001b[38;5;246m   9\u001b[0m   \u001b[38;5;246m│\u001b[0m \u001b[38;5;231m        out\u001b[0m\u001b[38;5;231m.\u001b[0m\u001b[38;5;231mprintln\u001b[0m\u001b[38;5;231m(\u001b[0m\u001b[38;5;186m\"\u001b[0m\u001b[38;5;186mHello World\u001b[0m\u001b[38;5;186m\"\u001b[0m\u001b[38;5;231m)\u001b[0m\u001b[38;5;231m;\u001b[0m\n",
      "\u001b[38;5;246m  10\u001b[0m   \u001b[38;5;246m│\u001b[0m \u001b[38;5;231m    \u001b[0m\u001b[38;5;231m}\u001b[0m\n",
      "\u001b[38;5;246m  11\u001b[0m   \u001b[38;5;246m│\u001b[0m \u001b[38;5;231m}\u001b[0m\n",
      "\u001b[38;5;246m───────┴────────────────────────────────────────────────────────────────────────\u001b[0m\n"
     ]
    }
   ],
   "source": [
    "jbang init hello.java\n",
    "bat hello.java"
   ]
  },
  {
   "cell_type": "markdown",
   "id": "d04aea6a",
   "metadata": {},
   "source": [
    "Run the Java file"
   ]
  },
  {
   "cell_type": "code",
   "execution_count": 29,
   "id": "88c52995",
   "metadata": {
    "vscode": {
     "languageId": "shellscript"
    }
   },
   "outputs": [
    {
     "name": "stdout",
     "output_type": "stream",
     "text": [
      "Hello World\n"
     ]
    }
   ],
   "source": [
    "jbang hello.java"
   ]
  },
  {
   "cell_type": "markdown",
   "id": "7ac244ed",
   "metadata": {},
   "source": [
    "We can even make files executable"
   ]
  },
  {
   "cell_type": "code",
   "execution_count": 30,
   "id": "2bb13678",
   "metadata": {
    "vscode": {
     "languageId": "shellscript"
    }
   },
   "outputs": [
    {
     "name": "stdout",
     "output_type": "stream",
     "text": [
      "Hello World\n"
     ]
    }
   ],
   "source": [
    "chmod +x hello.java\n",
    "./hello.java"
   ]
  },
  {
   "cell_type": "markdown",
   "id": "2b2259a1",
   "metadata": {},
   "source": [
    "Export the file to many formats with the `jbang export [format]` command: portable, fatjar, native-image, jlink, native."
   ]
  },
  {
   "cell_type": "code",
   "execution_count": null,
   "id": "f395ece3",
   "metadata": {
    "vscode": {
     "languageId": "shellscript"
    }
   },
   "outputs": [
    {
     "name": "stdout",
     "output_type": "stream",
     "text": [
      "[jbang] [ERROR] Cannot export as /Users/yassinebenabbas/dev/github/yostane/jbang-catalog/jbang-devoxxuk2025/work/hello-fatjar.jar already exists. Use --force to overwrite.\n",
      "\u001b[38;5;246m───────┬────────────────────────────────────────────────────────────────────────\u001b[0m\n",
      "       \u001b[38;5;246m│ \u001b[0m\u001b[1mSTDIN\u001b[0m\n",
      "\u001b[38;5;246m───────┼────────────────────────────────────────────────────────────────────────\u001b[0m\n",
      "\u001b[38;5;246m   1\u001b[0m   \u001b[38;5;246m│\u001b[0m \u001b[38;5;231mhello-fatjar.jar\u001b[0m\n",
      "\u001b[38;5;246m   2\u001b[0m   \u001b[38;5;246m│\u001b[0m \u001b[38;5;231mhello.java\u001b[0m\n",
      "\u001b[38;5;246m───────┴────────────────────────────────────────────────────────────────────────\u001b[0m\n",
      "Hello World\n"
     ]
    }
   ],
   "source": [
    "jbang export fatjar hello.java\n",
    "jbang ./hello-fatjar.jar"
   ]
  },
  {
   "cell_type": "markdown",
   "id": "133a3771",
   "metadata": {},
   "source": [
    "We can export to Gradle or Maven project."
   ]
  },
  {
   "cell_type": "code",
   "execution_count": 54,
   "id": "e03107e6",
   "metadata": {
    "vscode": {
     "languageId": "shellscript"
    }
   },
   "outputs": [
    {
     "name": "stdout",
     "output_type": "stream",
     "text": [
      "rm: ./hello: No such file or directory\n",
      "[jbang] No explicit group found, using org.example.project as fallback.\n",
      "[jbang] Exported as gradle project to /Users/yassinebenabbas/dev/github/yostane/jbang-catalog/jbang-devoxxuk2025/work/hello\n",
      "[jbang] Export to gradle is a best-effort to try match JBang build.\n",
      "[jbang] If something can be improved please open issue at open an issue at https://github.com/jbangdev/jbang/issues with reproducer.\n",
      "build.gradle\tsrc\n"
     ]
    }
   ],
   "source": [
    "rm -r ./hello\n",
    "jbang export gradle hello.java\n",
    "ls hello"
   ]
  },
  {
   "cell_type": "markdown",
   "id": "956ac6e8",
   "metadata": {},
   "source": [
    "## References\n",
    "\n",
    "- [How to Use Bash Commands in Jupyter Notebook](https://saturncloud.io/blog/how-to-use-bash-commands-in-jupyter-notebook/)"
   ]
  }
 ],
 "metadata": {
  "kernelspec": {
   "display_name": "Bash",
   "language": "bash",
   "name": "bash"
  },
  "language_info": {
   "codemirror_mode": "shell",
   "file_extension": ".sh",
   "mimetype": "text/x-sh",
   "name": "bash"
  }
 },
 "nbformat": 4,
 "nbformat_minor": 5
}
