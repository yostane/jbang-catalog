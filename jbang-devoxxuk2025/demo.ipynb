{
 "cells": [
  {
   "cell_type": "markdown",
   "id": "a7a262a4",
   "metadata": {},
   "source": [
    "# Jbang demo"
   ]
  }
 ],
 "metadata": {
  "language_info": {
   "name": "python"
  }
 },
 "nbformat": 4,
 "nbformat_minor": 5
}
