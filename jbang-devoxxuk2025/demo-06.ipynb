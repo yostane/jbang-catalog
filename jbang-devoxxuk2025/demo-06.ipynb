{
 "cells": [
  {
   "cell_type": "markdown",
   "id": "3ae2945b",
   "metadata": {},
   "source": [
    "# Remote scripts and templates\n",
    "\n",
    "JBang can load remote scripts and templates from a URL or from a catalog.\n",
    "\n",
    "```sh\n",
    "jbang URL\n",
    "# When run for the first time, JBang will ask for permission to run the script.\n",
    "```\n",
    "\n",
    "```sh\n",
    "[jbang] (URL) is not from a trusted source thus not running it automatically.\n",
    "\n",
    "If you trust the url to be safe to run you can do one of the following\n",
    "\n",
    "(1) Trust once: Add no trust, only allow access to this URL for the duration of this run\n",
    "(2) Trust limited url in future: (DOMAIN of URL)\n",
    "(0) Cancel\n",
    "\n",
    "[jbang] Type in your choice and hit enter. Will automatically select option (0) after 30 seconds.\n",
    "```"
   ]
  },
  {
   "cell_type": "code",
   "execution_count": null,
   "id": "000b15ce",
   "metadata": {
    "vscode": {
     "languageId": "shellscript"
    }
   },
   "outputs": [],
   "source": [
    "jbang https://gist.github.com/maxandersen/f43b4c52dfcfc42dcd59a04e49acf6ec"
   ]
  },
  {
   "cell_type": "markdown",
   "id": "146d8b63",
   "metadata": {},
   "source": [
    "[next >](./demo-07.ipynb)"
   ]
  }
 ],
 "metadata": {
  "kernelspec": {
   "display_name": "Bash",
   "language": "bash",
   "name": "bash"
  },
  "language_info": {
   "codemirror_mode": "shell",
   "file_extension": ".sh",
   "mimetype": "text/x-sh",
   "name": "bash"
  }
 },
 "nbformat": 4,
 "nbformat_minor": 5
}
