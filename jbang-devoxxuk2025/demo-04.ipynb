{
 "cells": [
  {
   "cell_type": "markdown",
   "id": "cc2b96dc",
   "metadata": {},
   "source": [
    "# Templates\n",
    "\n",
    "List available templates"
   ]
  },
  {
   "cell_type": "code",
   "execution_count": null,
   "id": "bc0a9dcc",
   "metadata": {
    "vscode": {
     "languageId": "shellscript"
    }
   },
   "outputs": [],
   "source": [
    "jbang template list"
   ]
  },
  {
   "cell_type": "markdown",
   "id": "d6494c12",
   "metadata": {},
   "source": [
    "Create a script from a template (picocli and quarkus examples)\n",
    "\n",
    "```sh\n",
    "jbang init -t (template-name) (script-name)\n",
    "```"
   ]
  },
  {
   "cell_type": "code",
   "execution_count": null,
   "id": "57b90a71",
   "metadata": {
    "vscode": {
     "languageId": "shellscript"
    }
   },
   "outputs": [],
   "source": [
    "if [ -z ${base} ]; then base=$(pwd); fi && cd $base/work\n",
    "jbang init -t cli hellocli.java\n",
    "bat hellocli.java --theme=gruvbox-light"
   ]
  },
  {
   "cell_type": "code",
   "execution_count": null,
   "id": "f913ca86",
   "metadata": {
    "vscode": {
     "languageId": "shellscript"
    }
   },
   "outputs": [],
   "source": [
    "jbang init --template qrest helloqrest.java\n",
    "bat helloqrest.java --theme=gruvbox-light"
   ]
  },
  {
   "cell_type": "markdown",
   "id": "bcb77877",
   "metadata": {},
   "source": [
    "Templates for Kotlin and Groovy files"
   ]
  },
  {
   "cell_type": "code",
   "execution_count": null,
   "id": "c5660802",
   "metadata": {
    "vscode": {
     "languageId": "shellscript"
    }
   },
   "outputs": [],
   "source": [
    "jbang init -t hello.kt hello.kt\n",
    "bat hello.kt --theme=gruvbox-light\n",
    "jbang hello.kt"
   ]
  },
  {
   "cell_type": "code",
   "execution_count": null,
   "id": "ac59e4bc",
   "metadata": {
    "vscode": {
     "languageId": "shellscript"
    }
   },
   "outputs": [],
   "source": [
    "jbang init -t hello.groovy hello.groovy\n",
    "bat hello.groovy --theme=gruvbox-light\n",
    "jbang hello.groovy"
   ]
  },
  {
   "cell_type": "markdown",
   "id": "146d8b63",
   "metadata": {},
   "source": [
    "[next >](./demo-05.ipynb)"
   ]
  }
 ],
 "metadata": {
  "kernelspec": {
   "display_name": "Bash",
   "language": "bash",
   "name": "bash"
  },
  "language_info": {
   "codemirror_mode": "shell",
   "file_extension": ".sh",
   "mimetype": "text/x-sh",
   "name": "bash"
  }
 },
 "nbformat": 4,
 "nbformat_minor": 5
}
