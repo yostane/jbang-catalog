{
 "cells": [
  {
   "cell_type": "markdown",
   "id": "3ae2945b",
   "metadata": {},
   "source": [
    "# How catalogs work\n",
    "\n",
    "JBang looks for a file named `jbang-catalog.json` in the specified repository.\n",
    "\n",
    "For example, this catalog [github.com/yostane/jbang-catalog/jbang-catalog.json](https://github.com/yostane/jbang-catalog/blob/main/jbang-catalog.json) defines:\n",
    "\n",
    "- The script **hellojfx@yostane**,\n",
    "- and the template **implicit-main@yostane**.\n",
    "\n",
    "```json\n",
    "{\n",
    "  \"catalogs\": {},\n",
    "  \"aliases\": {\n",
    "    \"hellojfx\": {\n",
    "        \"script-ref\": \"scripts/hellojfx.java\",\n",
    "        \"description\": \"Basic JavaFX window that shows Java and JavaFx versions\"\n",
    "    },\n",
    "  },\n",
    "  \"templates\": {\n",
    "    \"compact-main\": {\n",
    "        \"file-refs\": {\n",
    "            \"{basename}.kt\": \"templates/compact.java\"\n",
    "        },\n",
    "        \"description\": \"Java file with compact Main Method\"\n",
    "    }\n",
    "  }\n",
    "}\n",
    "```\n",
    "\n"
   ]
  },
  {
   "cell_type": "markdown",
   "id": "146d8b63",
   "metadata": {},
   "source": [
    "[next >](./demo-09.ipynb)"
   ]
  }
 ],
 "metadata": {
  "kernelspec": {
   "display_name": "Bash",
   "language": "bash",
   "name": "bash"
  },
  "language_info": {
   "codemirror_mode": "shell",
   "file_extension": ".sh",
   "mimetype": "text/x-sh",
   "name": "bash"
  }
 },
 "nbformat": 4,
 "nbformat_minor": 5
}
