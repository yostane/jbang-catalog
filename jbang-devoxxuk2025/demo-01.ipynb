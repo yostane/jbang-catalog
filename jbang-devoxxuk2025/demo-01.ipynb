{
 "cells": [
  {
   "cell_type": "markdown",
   "id": "a7a262a4",
   "metadata": {
    "slideshow": {
     "slide_type": "slide"
    }
   },
   "source": [
    "# [Devoxx UK 2025] Scripting on the JVM with JBang\n",
    "\n",
    "![Logo](./assets/jbang_logo.svg)\n",
    "\n",
    "And more!"
   ]
  },
  {
   "cell_type": "markdown",
   "id": "882ccb08",
   "metadata": {
    "notebookRunGroups": {
     "groupValue": "1"
    },
    "slideshow": {
     "slide_type": "slide"
    }
   },
   "source": [
    "## Prerequisites\n",
    "\n",
    "- Install [JBang](https://www.jbang.dev/download/)\n",
    "   ```sh\n",
    "    curl -Ls https://sh.jbang.dev | bash -s - app setup # Linux/OSX/Windows/AIX Bash:\n",
    "    iex \"& { $(iwr -useb https://ps.jbang.dev) } app setup\" # Windows Powershell\n",
    "    ```\n",
    "- To run the scripts in this notebook from a Unix shell\n",
    "    -  Install [the bash kernel for Jupyter](https://pypi.org/project/bash_kernel/) to run the code in this nodebook\n",
    "        ```sh\n",
    "        pip install bash_kernel\n",
    "        python -m bash_kernel.install\n",
    "        ```\n",
    "    - Set up the working directory for the remainder of the notebook with the following command\n",
    "\n",
    "\n",
    "[next >](./demo-02.ipynb)"
   ]
  }
 ],
 "metadata": {
  "kernelspec": {
   "display_name": "Bash",
   "language": "bash",
   "name": "bash"
  },
  "language_info": {
   "codemirror_mode": "shell",
   "file_extension": ".sh",
   "mimetype": "text/x-sh",
   "name": "bash"
  }
 },
 "nbformat": 4,
 "nbformat_minor": 5
}
