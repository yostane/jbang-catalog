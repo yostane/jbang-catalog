{
 "cells": [
  {
   "cell_type": "markdown",
   "id": "3ae2945b",
   "metadata": {},
   "source": [
    "# Remote scripts and templates - introducing catalongs\n",
    "\n",
    "A catalog is a shortcut to the source code reposiroty hosting the script or the template.\n",
    "\n",
    "Syntax: **jbang [script or template name]@user/repository**"
   ]
  },
  {
   "cell_type": "code",
   "execution_count": null,
   "id": "7cbc0cd5",
   "metadata": {
    "vscode": {
     "languageId": "shellscript"
    }
   },
   "outputs": [],
   "source": [
    "jbang palcli@yostane/cours-java madam"
   ]
  },
  {
   "cell_type": "markdown",
   "id": "b450b313",
   "metadata": {},
   "source": [
    "The default value for **resoitory** is **jbang-catalog**.\n",
    "\n",
    "This will load the script hellojfx from the GitHub repository yostane/jbang-catalog"
   ]
  },
  {
   "cell_type": "code",
   "execution_count": 1,
   "id": "6b1c6014",
   "metadata": {
    "vscode": {
     "languageId": "shellscript"
    }
   },
   "outputs": [],
   "source": [
    "jbang hellojfx@yostane"
   ]
  },
  {
   "cell_type": "markdown",
   "id": "b03e5e6f",
   "metadata": {},
   "source": [
    "![jfx demo](./assets/jfx-demo.png)"
   ]
  },
  {
   "cell_type": "markdown",
   "id": "acc0cc71",
   "metadata": {},
   "source": [
    "Templates are loaded from a catalog with **--template** flag"
   ]
  },
  {
   "cell_type": "code",
   "execution_count": 2,
   "id": "b658570f",
   "metadata": {
    "vscode": {
     "languageId": "shellscript"
    }
   },
   "outputs": [
    {
     "name": "stdout",
     "output_type": "stream",
     "text": [
      "[jbang] File initialized. You can now run it with 'jbang im.java' or edit it using 'jbang edit --open=[editor] im.java' where [editor] is your editor or IDE, e.g. 'code'. If your IDE supports JBang, you can edit the directory instead: 'jbang edit . im.java'. See https://jbang.dev/ide\n",
      "\u001b[38;5;246m───────┬────────────────────────────────────────────────────────────────────────\u001b[0m\n",
      "       \u001b[38;5;246m│ \u001b[0mFile: \u001b[1mim.java\u001b[0m\n",
      "\u001b[38;5;246m───────┼────────────────────────────────────────────────────────────────────────\u001b[0m\n",
      "\u001b[38;5;246m   1\u001b[0m   \u001b[38;5;246m│\u001b[0m \u001b[38;5;242m//\u001b[0m\u001b[38;5;242m/usr/bin/env jbang \"$0\" \"$@\" ; exit $?\u001b[0m\n",
      "\u001b[38;5;246m   2\u001b[0m   \u001b[38;5;246m│\u001b[0m \u001b[38;5;242m//\u001b[0m\u001b[38;5;242mJAVA 24+\u001b[0m\n",
      "\u001b[38;5;246m   3\u001b[0m   \u001b[38;5;246m│\u001b[0m \u001b[38;5;242m//\u001b[0m\u001b[38;5;242mCOMPILE_OPTIONS --enable-preview -source 24\u001b[0m\n",
      "\u001b[38;5;246m   4\u001b[0m   \u001b[38;5;246m│\u001b[0m \u001b[38;5;242m//\u001b[0m\u001b[38;5;242mRUNTIME_OPTIONS --enable-preview\u001b[0m\n",
      "\u001b[38;5;246m   5\u001b[0m   \u001b[38;5;246m│\u001b[0m \n",
      "\u001b[38;5;246m   6\u001b[0m   \u001b[38;5;246m│\u001b[0m \u001b[38;5;231mvoid \u001b[0m\u001b[38;5;231mmain\u001b[0m\u001b[38;5;231m(\u001b[0m\u001b[38;5;149mString\u001b[0m\u001b[38;5;231m.\u001b[0m\u001b[38;5;231m.\u001b[0m\u001b[38;5;231m.\u001b[0m\u001b[38;5;231m args\u001b[0m\u001b[38;5;231m)\u001b[0m\u001b[38;5;231m \u001b[0m\u001b[38;5;231m{\u001b[0m\n",
      "\u001b[38;5;246m   7\u001b[0m   \u001b[38;5;246m│\u001b[0m \u001b[38;5;231m    \u001b[0m\u001b[38;5;149mSystem\u001b[0m\u001b[38;5;231m.\u001b[0m\u001b[38;5;231mout\u001b[0m\u001b[38;5;231m.\u001b[0m\u001b[38;5;231mprintln\u001b[0m\u001b[38;5;231m(\u001b[0m\u001b[38;5;186m\"\u001b[0m\u001b[38;5;186mHello World\u001b[0m\u001b[38;5;186m\"\u001b[0m\u001b[38;5;231m)\u001b[0m\u001b[38;5;231m;\u001b[0m\n",
      "\u001b[38;5;246m   8\u001b[0m   \u001b[38;5;246m│\u001b[0m \u001b[38;5;231m}\u001b[0m\n",
      "\u001b[38;5;246m───────┴────────────────────────────────────────────────────────────────────────\u001b[0m\n",
      "Hello World\n"
     ]
    }
   ],
   "source": [
    "cd work\n",
    "jbang init --template implicit-main@yostane im.java\n",
    "bat im.java\n",
    "jbang im.java"
   ]
  },
  {
   "cell_type": "markdown",
   "id": "5da3bc02",
   "metadata": {},
   "source": [
    "[next >](./demo-08.ipynb)"
   ]
  }
 ],
 "metadata": {
  "kernelspec": {
   "display_name": "Bash",
   "language": "bash",
   "name": "bash"
  },
  "language_info": {
   "codemirror_mode": "shell",
   "file_extension": ".sh",
   "mimetype": "text/x-sh",
   "name": "bash"
  }
 },
 "nbformat": 4,
 "nbformat_minor": 5
}
