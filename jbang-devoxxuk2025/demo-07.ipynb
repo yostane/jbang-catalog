{
 "cells": [
  {
   "cell_type": "markdown",
   "id": "3ae2945b",
   "metadata": {},
   "source": [
    "# Remote scripts and templates - introducing catalogs\n",
    "\n",
    "A catalog is a shortcut to the source code reposiroty hosting the script or the template.\n",
    "\n",
    "Syntax:\n",
    "\n",
    "- jbang [script or template name]@[domain]/[path (jbang-catalog by default)]\n",
    "- jbang [script or template name]@[GitHub, GitLab or BitBucket user]/[repository (jbang-catalog by default)]"
   ]
  },
  {
   "cell_type": "code",
   "execution_count": null,
   "id": "7cbc0cd5",
   "metadata": {
    "vscode": {
     "languageId": "shellscript"
    }
   },
   "outputs": [],
   "source": [
    "# Script defined in github.com/yostane/cours-java\n",
    "jbang palcli@yostane/cours-java madam"
   ]
  },
  {
   "cell_type": "markdown",
   "id": "b450b313",
   "metadata": {},
   "source": [
    "The default value for **resoitory** is **jbang-catalog**.\n",
    "\n",
    "This will load the script hellojfx from the GitHub repository yostane/jbang-catalog"
   ]
  },
  {
   "cell_type": "code",
   "execution_count": null,
   "id": "6b1c6014",
   "metadata": {
    "vscode": {
     "languageId": "shellscript"
    }
   },
   "outputs": [],
   "source": [
    "# Script defined in github.com/yostane/jbang-catalog\n",
    "jbang hellojfx@yostane"
   ]
  },
  {
   "cell_type": "markdown",
   "id": "b03e5e6f",
   "metadata": {},
   "source": [
    "![jfx demo](./assets/jfx-demo.png)"
   ]
  },
  {
   "cell_type": "markdown",
   "id": "acc0cc71",
   "metadata": {},
   "source": [
    "Templates are loaded from a catalog with **--template** flag"
   ]
  },
  {
   "cell_type": "code",
   "execution_count": null,
   "id": "b658570f",
   "metadata": {
    "vscode": {
     "languageId": "shellscript"
    }
   },
   "outputs": [],
   "source": [
    "if [ -z ${base} ]; then base=$(pwd); fi && cd $base/work\n",
    "\n",
    "jbang init --template compact-main@yostane compact.java\n",
    "\n",
    "bat compact.java --theme=gruvbox-light\n",
    "jbang compact.java"
   ]
  },
  {
   "cell_type": "markdown",
   "id": "5da3bc02",
   "metadata": {},
   "source": [
    "[next >](./demo-08.ipynb)"
   ]
  }
 ],
 "metadata": {
  "kernelspec": {
   "display_name": "Bash",
   "language": "bash",
   "name": "bash"
  },
  "language_info": {
   "codemirror_mode": "shell",
   "file_extension": ".sh",
   "mimetype": "text/x-sh",
   "name": "bash"
  }
 },
 "nbformat": 4,
 "nbformat_minor": 5
}
