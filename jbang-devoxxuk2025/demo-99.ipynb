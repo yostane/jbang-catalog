{
 "cells": [
  {
   "cell_type": "markdown",
   "id": "956ac6e8",
   "metadata": {},
   "source": [
    "# References\n",
    "\n",
    "- [How to Use Bash Commands in Jupyter Notebook](https://saturncloud.io/blog/how-to-use-bash-commands-in-jupyter-notebook/)\n",
    "- [giphy.com](https://giphy.com/gifs/nope-nah-fam-WTjnWYENpLxS8JQ5rz)\n",
    "- [tenor.com](https://tenor.com/view/that's-all-folks-thats-all-folks-thats-all-bugs-bunny-movie-gif-2051142853146731971)"
   ]
  }
 ],
 "metadata": {
  "kernelspec": {
   "display_name": "Bash",
   "language": "bash",
   "name": "bash"
  },
  "language_info": {
   "codemirror_mode": "shell",
   "file_extension": ".sh",
   "mimetype": "text/x-sh",
   "name": "bash"
  }
 },
 "nbformat": 4,
 "nbformat_minor": 5
}
