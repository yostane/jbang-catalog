{
 "cells": [
  {
   "cell_type": "markdown",
   "id": "2b2259a1",
   "metadata": {},
   "source": [
    "# Exporting scripts\n",
    "\n",
    "Export the file to many formats with the `jbang export [format]` command: portable, fatjar, native-image, jlink, native."
   ]
  },
  {
   "cell_type": "code",
   "execution_count": null,
   "id": "f395ece3",
   "metadata": {
    "vscode": {
     "languageId": "shellscript"
    }
   },
   "outputs": [],
   "source": [
    "if [ -z ${base} ]; then base=$(pwd); fi && cd $base/work\n",
    "jbang export fatjar hello.java\n",
    "jbang ./hello-fatjar.jar"
   ]
  },
  {
   "cell_type": "markdown",
   "id": "133a3771",
   "metadata": {},
   "source": [
    "We can export to Gradle or Maven project."
   ]
  },
  {
   "cell_type": "code",
   "execution_count": null,
   "id": "e03107e6",
   "metadata": {
    "vscode": {
     "languageId": "shellscript"
    }
   },
   "outputs": [],
   "source": [
    "rm -r ./hello # cleanup just in case\n",
    "jbang export gradle hello.java\n",
    "ls hello"
   ]
  },
  {
   "cell_type": "markdown",
   "id": "146d8b63",
   "metadata": {},
   "source": [
    "[next >](./demo-04.ipynb)"
   ]
  }
 ],
 "metadata": {
  "kernelspec": {
   "display_name": "Bash",
   "language": "bash",
   "name": "bash"
  },
  "language_info": {
   "codemirror_mode": "shell",
   "file_extension": ".sh",
   "mimetype": "text/x-sh",
   "name": "bash"
  }
 },
 "nbformat": 4,
 "nbformat_minor": 5
}
