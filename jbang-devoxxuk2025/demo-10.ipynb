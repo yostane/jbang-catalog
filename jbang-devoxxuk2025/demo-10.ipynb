{
 "cells": [
  {
   "cell_type": "markdown",
   "id": "071903d9",
   "metadata": {},
   "source": [
    "# Other features"
   ]
  },
  {
   "cell_type": "markdown",
   "id": "ee1892af",
   "metadata": {},
   "source": [
    "## Run java from the CLI"
   ]
  },
  {
   "cell_type": "code",
   "execution_count": 8,
   "id": "0321850e",
   "metadata": {
    "vscode": {
     "languageId": "shellscript"
    }
   },
   "outputs": [
    {
     "name": "stdout",
     "output_type": "stream",
     "text": [
      "Files.list(Paths.get(\"work\")).map(f -> f.toString()).filter(f -> f.endsWith(\".java\")).forEach(System.out::println)\n",
      "WARNING: Using incubator modules: jdk.incubator.vector\n",
      "work/fl.java\n",
      "work/hello.java\n"
     ]
    }
   ],
   "source": [
    "JAVA_CODE='Files.list(Paths.get(\"work\"))'\n",
    "JAVA_CODE=\"${JAVA_CODE}.map(f -> f.toString())\"\n",
    "JAVA_CODE=\"${JAVA_CODE}.filter(f -> f.endsWith(\\\".java\\\"))\"\n",
    "JAVA_CODE=\"${JAVA_CODE}.forEach(System.out::println)\"\n",
    "echo $JAVA_CODE\n",
    "jbang --code \"$JAVA_CODE\""
   ]
  },
  {
   "cell_type": "markdown",
   "id": "96a4790b",
   "metadata": {},
   "source": [
    "## Dependencies and additional files\n",
    "\n",
    "- Dependency syntax : `//DEPS group:name:version`\n",
    "- Source files : `//SOURCES path/to/file`\n",
    "- Additional files : `//FILES path/to/file`"
   ]
  },
  {
   "cell_type": "code",
   "execution_count": null,
   "id": "a0f59c68",
   "metadata": {
    "vscode": {
     "languageId": "shellscript"
    }
   },
   "outputs": [
    {
     "name": "stdout",
     "output_type": "stream",
     "text": [
      "[jbang] [ERROR] Could not download https://github.com/yostane/jbang-catalog/blob/HEAD/javafx-presentation/Presentation.java\n",
      "[jbang] Run with --verbose for more details. The --verbose must be placed before the jbang command. I.e. jbang --verbose run [...]\n",
      "\u001b[31m[bat error]\u001b[0m: 'JfxPresentation.java': No such file or directory (os error 2)\n"
     ]
    },
    {
     "ename": "",
     "evalue": "1",
     "output_type": "error",
     "traceback": []
    }
   ],
   "source": [
    "if [ -z ${base} ]; then base=$(pwd); fi && cd $base/work\n",
    "rm -r ./presentation\n",
    "mkdir presentation && cd presentation\n",
    "jbang init --template javafx-presentation@yostane JfxPresentation.java\n",
    "ls .\n",
    "bat JfxPresentation.java --theme=gruvbox-light"
   ]
  },
  {
   "cell_type": "code",
   "execution_count": null,
   "id": "3b23575a",
   "metadata": {
    "vscode": {
     "languageId": "shellscript"
    }
   },
   "outputs": [],
   "source": [
    "jbang presentation/JfxPresentation.java"
   ]
  },
  {
   "cell_type": "markdown",
   "id": "87f03d1c",
   "metadata": {},
   "source": [
    "[next >](./demo-99.ipynb)"
   ]
  }
 ],
 "metadata": {
  "kernelspec": {
   "display_name": "Bash",
   "language": "bash",
   "name": "bash"
  },
  "language_info": {
   "codemirror_mode": "shell",
   "file_extension": ".sh",
   "mimetype": "text/x-sh",
   "name": "bash"
  }
 },
 "nbformat": 4,
 "nbformat_minor": 5
}
