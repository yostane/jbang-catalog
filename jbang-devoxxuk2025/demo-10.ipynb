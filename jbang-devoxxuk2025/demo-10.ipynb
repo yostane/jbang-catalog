{
 "cells": [
  {
   "cell_type": "markdown",
   "id": "071903d9",
   "metadata": {},
   "source": [
    "# Installation"
   ]
  },
  {
   "cell_type": "markdown",
   "id": "e66b1d67",
   "metadata": {},
   "source": [
    "Install scripts with `jbang app install <scriptRef>`"
   ]
  },
  {
   "cell_type": "code",
   "execution_count": null,
   "id": "cab7ec6b",
   "metadata": {
    "vscode": {
     "languageId": "shellscript"
    }
   },
   "outputs": [],
   "source": [
    "jbang app install palcli@yostane/cours-java\n",
    "jbang palcli mister"
   ]
  },
  {
   "cell_type": "markdown",
   "id": "548a31f5",
   "metadata": {},
   "source": [
    "JBang is the the official tool for installing [Jupyter Java](https://github.com/jupyter-java) kernel"
   ]
  },
  {
   "cell_type": "code",
   "execution_count": null,
   "id": "82c5e9fd",
   "metadata": {
    "vscode": {
     "languageId": "shellscript"
    }
   },
   "outputs": [],
   "source": [
    "jbang install-kernel@jupyter-java"
   ]
  },
  {
   "cell_type": "markdown",
   "id": "87f03d1c",
   "metadata": {},
   "source": [
    "[next >](./demo-11.ipynb)"
   ]
  }
 ],
 "metadata": {
  "kernelspec": {
   "display_name": "Bash",
   "language": "bash",
   "name": "bash"
  },
  "language_info": {
   "codemirror_mode": "shell",
   "file_extension": ".sh",
   "mimetype": "text/x-sh",
   "name": "bash"
  }
 },
 "nbformat": 4,
 "nbformat_minor": 5
}
