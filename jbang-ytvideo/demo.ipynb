{
 "cells": [
  {
   "cell_type": "markdown",
   "id": "a7a262a4",
   "metadata": {},
   "source": [
    "# Scripting on the JVM with JBang\n",
    "\n",
    "![Logo](./assets/jbang_logo.svg)\n",
    "\n",
    "When it comes to large projects, the Java ecosystem has Maven and Gradle. However, the file structure of these tools is not suitable for projects containing a single source code file. Fortunately for us, JBang makes developing small projects in Java, Kotlin, or Groovy as simple as in Python. Since I discovered this tool, it hasn't left my side, and I'm excited to share it with you.\n",
    "During this session, we will cover the setup and usage of the JBang tool, from project creation to deployment.\n",
    "If you're a teacher, a developer of demos / small programs, or you simply enjoy coding in Java, then this session is made for you."
   ]
  },
  {
   "cell_type": "markdown",
   "id": "882ccb08",
   "metadata": {},
   "source": [
    "## Prerequisites\n",
    "\n",
    "- Install [Jbang](https://www.jbang.dev/download/)\n",
    "   ```sh\n",
    "    curl -Ls https://sh.jbang.dev | bash -s - app setup # Linux/OSX/Windows/AIX Bash:\n",
    "    iex \"& { $(iwr -useb https://ps.jbang.dev) } app setup\" # Windows Powershell\n",
    "    ```\n",
    "- Install [the bash kernel for Jupyter](https://pypi.org/project/bash_kernel/) to run the code in this nodebook\n",
    "    ```sh\n",
    "    pip install bash_kernel\n",
    "    python -m bash_kernel.install\n",
    "    ```\n",
    "\n",
    "## Notebook setup\n",
    "\n",
    "This part works only on Linux and MacOS. If you are on Windows, please run the commands in a bash shell.\n",
    "\n",
    "Setup working directory"
   ]
  },
  {
   "cell_type": "code",
   "execution_count": 1,
   "id": "2ac25b2c",
   "metadata": {
    "vscode": {
     "languageId": "shellscript"
    }
   },
   "outputs": [
    {
     "name": "stdout",
     "output_type": "stream",
     "text": [
      "/Users/yassinebenabbas/dev/github/yostane/jbang-catalog/jbang-ytvideo\n"
     ]
    }
   ],
   "source": [
    "if [ -z ${base} ]; then base=$(pwd); fi\n",
    "echo $base\n",
    "cd $base\n",
    "mkdir -p work\n",
    "rm -rf ./work/*\n",
    "cd work"
   ]
  },
  {
   "cell_type": "markdown",
   "id": "55fa4da2",
   "metadata": {},
   "source": [
    "## Basic features\n",
    "\n",
    "Initialize a new Java file"
   ]
  },
  {
   "cell_type": "code",
   "execution_count": null,
   "id": "e453d053",
   "metadata": {
    "notebookRunGroups": {
     "groupValue": "1"
    },
    "vscode": {
     "languageId": "shellscript"
    }
   },
   "outputs": [],
   "source": [
    "jbang init hello.java\n",
    "bat hello.java"
   ]
  },
  {
   "cell_type": "markdown",
   "id": "d04aea6a",
   "metadata": {},
   "source": [
    "Run the Java file"
   ]
  },
  {
   "cell_type": "code",
   "execution_count": null,
   "id": "88c52995",
   "metadata": {
    "vscode": {
     "languageId": "shellscript"
    }
   },
   "outputs": [],
   "source": [
    "jbang hello.java"
   ]
  },
  {
   "cell_type": "markdown",
   "id": "7ac244ed",
   "metadata": {},
   "source": [
    "We can even make files executable"
   ]
  },
  {
   "cell_type": "code",
   "execution_count": null,
   "id": "2bb13678",
   "metadata": {
    "vscode": {
     "languageId": "shellscript"
    }
   },
   "outputs": [],
   "source": [
    "chmod +x hello.java\n",
    "./hello.java"
   ]
  },
  {
   "cell_type": "markdown",
   "id": "2b2259a1",
   "metadata": {},
   "source": [
    "Export the file to many formats with the `jbang export [format]` command: portable, fatjar, native-image, jlink, native."
   ]
  },
  {
   "cell_type": "code",
   "execution_count": null,
   "id": "f395ece3",
   "metadata": {
    "vscode": {
     "languageId": "shellscript"
    }
   },
   "outputs": [],
   "source": [
    "jbang export fatjar hello.java\n",
    "jbang ./hello-fatjar.jar"
   ]
  },
  {
   "cell_type": "markdown",
   "id": "133a3771",
   "metadata": {},
   "source": [
    "We can export to Gradle or Maven project."
   ]
  },
  {
   "cell_type": "code",
   "execution_count": null,
   "id": "e03107e6",
   "metadata": {
    "vscode": {
     "languageId": "shellscript"
    }
   },
   "outputs": [],
   "source": [
    "rm -r ./hello\n",
    "jbang export gradle hello.java\n",
    "ls hello"
   ]
  },
  {
   "cell_type": "markdown",
   "id": "49f382f6",
   "metadata": {},
   "source": [
    "![that's all folks](./assets/thats_all_fol.gif)\n",
    "\n",
    "?\n",
    "\n",
    "![nah](./assets/nah.gif)\n",
    "\n",
    "## Remote scripts and catalogs\n",
    "\n",
    "Loading scripts from a URL (will ask for permission to download the script)"
   ]
  },
  {
   "cell_type": "code",
   "execution_count": null,
   "id": "000b15ce",
   "metadata": {
    "vscode": {
     "languageId": "shellscript"
    }
   },
   "outputs": [],
   "source": [
    "jbang https://gist.github.com/maxandersen/f43b4c52dfcfc42dcd59a04e49acf6ec"
   ]
  },
  {
   "cell_type": "code",
   "execution_count": null,
   "id": "86ad136e",
   "metadata": {
    "vscode": {
     "languageId": "shellscript"
    }
   },
   "outputs": [],
   "source": [
    "jbang trust add https://gist.github.com/maxandersen/\n",
    "jbang https://gist.github.com/maxandersen/f43b4c52dfcfc42dcd59a04e49acf6ec\n",
    "jbang trust remove https://gist.github.com/maxandersen/"
   ]
  },
  {
   "cell_type": "markdown",
   "id": "ffb93a8c",
   "metadata": {},
   "source": [
    "Catalogs allows to simplify accessing remote **scripts** and **templates** hosted in code reposiroties.\n",
    "\n",
    "This `jbang-catalog.json` file is hosted in [github.com/yostane/jbang-catalog](https://github.com/yostane/jbang-catalog/blob/main/jbang-catalog.json).\n",
    "\n",
    "```json\n",
    "{\n",
    "  \"catalogs\": {},\n",
    "  \"aliases\": {\n",
    "    \"hellojfx\": {\n",
    "\t\t\"script-ref\": \"scripts/hellojfx.java\",\n",
    "\t\t\"description\": \"Basic JavaFX window that shows Java and JavaFx versions\"\n",
    "\t  },\n",
    "  },\n",
    "  \"templates\": {\n",
    "    \"implicit-main\": {\n",
    "      \"file-refs\": {\n",
    "        \"{basename}.kt\": \"templates/im.java\"\n",
    "      },\n",
    "      \"description\": \"Java file wiht Implicitly Declared Classes and Instance Main Method\"\n",
    "    }\n",
    "  }\n",
    "}\n",
    "```"
   ]
  },
  {
   "cell_type": "code",
   "execution_count": null,
   "id": "feb3a9ce",
   "metadata": {
    "vscode": {
     "languageId": "shellscript"
    }
   },
   "outputs": [],
   "source": [
    "jbang hellojfx@yostane"
   ]
  },
  {
   "cell_type": "markdown",
   "id": "b03e5e6f",
   "metadata": {},
   "source": [
    "![jfx demo](./assets/jfx-demo.png)"
   ]
  },
  {
   "cell_type": "code",
   "execution_count": null,
   "id": "b658570f",
   "metadata": {
    "vscode": {
     "languageId": "shellscript"
    }
   },
   "outputs": [],
   "source": [
    "jbang init --template implicit-main@yostane im.java\n",
    "bat im.java\n",
    "jbang im.java"
   ]
  },
  {
   "cell_type": "markdown",
   "id": "071903d9",
   "metadata": {},
   "source": [
    "## Other features"
   ]
  },
  {
   "cell_type": "markdown",
   "id": "96a4790b",
   "metadata": {},
   "source": [
    "- Gradle style dependencies\n",
    "- Additional source files"
   ]
  },
  {
   "cell_type": "code",
   "execution_count": null,
   "id": "a0f59c68",
   "metadata": {
    "vscode": {
     "languageId": "shellscript"
    }
   },
   "outputs": [],
   "source": [
    "rm -r ./presentation\n",
    "jbang init --template javafx-presentation@yostane presentation/JfxPresentation.java\n",
    "ls presentation\n",
    "bat presentation/JfxPresentation.java"
   ]
  },
  {
   "cell_type": "code",
   "execution_count": null,
   "id": "3b23575a",
   "metadata": {
    "vscode": {
     "languageId": "shellscript"
    }
   },
   "outputs": [],
   "source": [
    "jbang presentation/JfxPresentation.java"
   ]
  },
  {
   "cell_type": "markdown",
   "id": "956ac6e8",
   "metadata": {},
   "source": [
    "## References\n",
    "\n",
    "- [How to Use Bash Commands in Jupyter Notebook](https://saturncloud.io/blog/how-to-use-bash-commands-in-jupyter-notebook/)\n",
    "- [giphy.com](https://giphy.com/gifs/nope-nah-fam-WTjnWYENpLxS8JQ5rz)\n",
    "- [tenor.com](https://tenor.com/view/that's-all-folks-thats-all-folks-thats-all-bugs-bunny-movie-gif-2051142853146731971)"
   ]
  }
 ],
 "metadata": {
  "kernelspec": {
   "display_name": "Bash",
   "language": "bash",
   "name": "bash"
  },
  "language_info": {
   "codemirror_mode": "shell",
   "file_extension": ".sh",
   "mimetype": "text/x-sh",
   "name": "bash"
  }
 },
 "nbformat": 4,
 "nbformat_minor": 5
}
